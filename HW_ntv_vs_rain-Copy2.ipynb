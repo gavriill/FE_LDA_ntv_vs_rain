{
 "cells": [
  {
   "cell_type": "markdown",
   "metadata": {},
   "source": [
    "# Домашнее задание 3\n",
    "## Сравнение интересов аудитории телеканалов НТВ и Дождь с помощью тематического моделирования LDA"
   ]
  },
  {
   "cell_type": "markdown",
   "metadata": {},
   "source": [
    "Задача:\n",
    "Сравнить интересы аудитории телеканолов НТВ и Дождь с помощью методов тематического моделирования\n",
    "1. Получить данные по аудитории из социальной сети ВК\n",
    "2. Зарегистрировать приложение, получить app_id, access_token\n",
    "3. Скачать данные по пользователям в каждой из групп (id групп ВК даны ниже, tvrain_id, ntv_id)\n",
    "4. Взять небольшую выборку из каждой совокупности телезрителей(около 1000-2000 человек, т.к. 300k-400k слишком много), с которыми работать дальше\n",
    "5. \n",
    "6. По группам, на которые подписаны эти люди, полуичть ключевые слова групп, на которые они подписаны\n",
    "7. Получить распределение интересов людей для каждой совокупности, сравнить на графике"
   ]
  },
  {
   "cell_type": "code",
   "execution_count": 1,
   "metadata": {},
   "outputs": [],
   "source": [
    "import seaborn as sb\n",
    "import sys  \n",
    "import pandas as pd\n",
    "import requests\n",
    "import numpy as np\n",
    "import datetime\n",
    "import time\n",
    "import pickle\n",
    "import matplotlib.pyplot as plt\n",
    "import time\n",
    "%matplotlib inline\n",
    "\n",
    "from bs4 import BeautifulSoup as bs\n",
    "import urllib\n",
    "pd.set_option('display.max_columns', None) # display all columns\n",
    "#pd.set_option('display.max_rows', None) # display all columns"
   ]
  },
  {
   "cell_type": "code",
   "execution_count": 92,
   "metadata": {},
   "outputs": [],
   "source": [
    "def load_obj(name):\n",
    "    with open(name + '.pkl', 'rb') as f:\n",
    "        return pickle.load(f)\n",
    "\n",
    "def save_obj(obj, name):\n",
    "    with open(name + '.pkl', 'wb') as f:\n",
    "        pickle.dump(obj, f, pickle.HIGHEST_PROTOCOL)"
   ]
  },
  {
   "cell_type": "markdown",
   "metadata": {},
   "source": [
    "#### Для использования VK API необходимо создать приложение в VK\n",
    "\n",
    "1. Создать приложение по адресу https://vk.com/apps?act=manage (кнопка \"создать приложение\")\n",
    "2. При создании указать название, описание (можно любые), категория  - прочее. Тип - standalone приложение\n",
    "3. В настройках получить **app_id**. App_id потребуется для получения access token\n",
    "4. Авторизовать пользователя (получить access token) можно по адресу: https://vk.com/dev/first_guide, в правилах нас интересует пункт 3 **Авторизация пользователя**\n",
    "5. После того, как ознакомитесь с авторизацией пользователя, скопируйте в адресную строку такой запрос https://oauth.vk.com/authorize?client_id=5490057&display=page&redirect_uri=https://oauth.vk.com/blank.html&scope=friends&response_type=token&v=5.52, где число **5490057** замените на число, которое получите для вашего **app_id**\n",
    "6. Нажмите Enter. Откроется окно с запросом прав. В нем отображаются название приложения, иконки прав доступа, и Ваши имя с фамилией. Нажмите «Разрешить». Вы попадете на новую страницу с предупреждением о том, что токен нельзя копировать и передавать третьим лицам. В адресной строке будет URL https://oauth.vk.com/blank.html, а после # Вы увидите дополнительные параметры — access_token, expires_in и user_id. Токен может выглядеть, например, так: 51eff86578a3bbbcb5c7043a122a69fd04dca057ac821dd7afd7c2d8e35b60172d45a26599c08034cc40a\n",
    "7. Токен — это Ваш ключ доступа. При выполнении определенных условий человек, получивший Ваш токен, может нанести существенный ущерб Вашим данным и данным других людей. Поэтому очень важно не передавать свой токен третьим лицам\n",
    "8. Поле expires_in содержит время жизни токена в секундах. 86400 секунд — это ровно сутки. Через сутки полученный токен перестанет действовать, для продолжения работы нужно будет получить новый по такому же алгоритму"
   ]
  },
  {
   "cell_type": "code",
   "execution_count": 35,
   "metadata": {},
   "outputs": [],
   "source": [
    "# use your own app id and respective tokens\n",
    "\n",
    "# скопируйте сюда ваши app_id и access_token, полученные по методу, описанному выше\n",
    "app_id = 6741311\n",
    "access_token = '9b1beb2e4f11dac29691e3fcbb2a454c462813635e587db804f8180cbab75460b107724963b9466017b79'\n",
    "\n",
    "# id групп ВК Дождя и НТВ\n",
    "tvrain_id = 17568841\n",
    "ntv_id = 28658784"
   ]
  },
  {
   "cell_type": "code",
   "execution_count": 36,
   "metadata": {},
   "outputs": [
    {
     "name": "stdout",
     "output_type": "stream",
     "text": [
      "Павел Дуров\n"
     ]
    }
   ],
   "source": [
    "# проверка работы API и авторизации пользователя. \n",
    "#Если возникает ошибка, то, возможно, access token необходимо обновить\n",
    "check_id = 1\n",
    "\n",
    "# api call and test\n",
    "def vk_get_response(method, parameters, token):\n",
    "    url = 'https://api.vk.com/method/' + method + '?' + parameters + '&access_token=' + token\n",
    "#     print url\n",
    "    return(requests.get(url).json())\n",
    "\n",
    "answer = vk_get_response(\n",
    "    'users.get', 'user_ids={0}&v=4.9&lang=ru'.format(check_id), access_token\n",
    ")['response']\n",
    "print(answer[0]['first_name'], answer[0]['last_name'])"
   ]
  },
  {
   "cell_type": "markdown",
   "metadata": {},
   "source": [
    "### Получение подписчиков телеканалов НТВ и Дождь в VK"
   ]
  },
  {
   "cell_type": "markdown",
   "metadata": {},
   "source": [
    "Получим объекты, которые содержат всю информацию о подпиичиках соответствующих групп (указанных в domains) и сохраним их на диск. Получим в итоге два файла - **ntv_subs** и **tvrain_subs** в формате **.pkl** - питоновский формат хранения данных"
   ]
  },
  {
   "cell_type": "code",
   "execution_count": null,
   "metadata": {},
   "outputs": [],
   "source": [
    "## Не стал перегружать с увеличенным офсетом -очень уж долго\n",
    "domains = ['ntv', 'tvrain']\n",
    "#domains = [ 'tvrain']\n",
    "\n",
    "for group_domain in domains:\n",
    "    offset = 0\n",
    "    group_id = group_domain\n",
    "    fields = \"\"\"sex,bdate,city,country,home_town,lists,domain,has_mobile,\n",
    "    contacts,connections,education,universities,followers_count,occupation,last_seen,relation\"\"\"\n",
    "    first_sample = vk_get_response(\n",
    "        'groups.getMembers', 'group_id={0}&offset={1}&fields={2}&v=4.9&lang=ru'.format(\n",
    "            group_id, offset, fields\n",
    "        ), token=access_token\n",
    "    )\n",
    "    community_count = first_sample['response']['count']\n",
    "    community_members = []\n",
    "    for i in range(community_count // 1000 + 1):\n",
    "        offset = i * 1000\n",
    "        try:\n",
    "            answer = vk_get_response(\n",
    "                'groups.getMembers', 'group_id={0}&offset={1}&fields={2}&v=4.9&lang=ru'.format(\n",
    "                    group_id, offset, fields), token=access_token\n",
    "            )\n",
    "            print(\"Offset: \", offset)\n",
    "        except:\n",
    "            print(\"Offset: \", offset, \" Error\")\n",
    "        community_members += answer['response']['users']\n",
    "    save_obj(community_members, '{}_subs'.format(group_domain))"
   ]
  },
  {
   "cell_type": "code",
   "execution_count": null,
   "metadata": {},
   "outputs": [],
   "source": []
  },
  {
   "cell_type": "code",
   "execution_count": 5,
   "metadata": {},
   "outputs": [],
   "source": [
    "community_ntv = load_obj('ntv_subs')\n",
    "community_tvrain = load_obj('tvrain_subs')"
   ]
  },
  {
   "cell_type": "code",
   "execution_count": 6,
   "metadata": {},
   "outputs": [],
   "source": [
    "community_ntv_df = pd.DataFrame(community_ntv)\n",
    "community_tvrain_df = pd.DataFrame(community_tvrain)"
   ]
  },
  {
   "cell_type": "code",
   "execution_count": 7,
   "metadata": {},
   "outputs": [
    {
     "data": {
      "text/html": [
       "<div>\n",
       "<style scoped>\n",
       "    .dataframe tbody tr th:only-of-type {\n",
       "        vertical-align: middle;\n",
       "    }\n",
       "\n",
       "    .dataframe tbody tr th {\n",
       "        vertical-align: top;\n",
       "    }\n",
       "\n",
       "    .dataframe thead th {\n",
       "        text-align: right;\n",
       "    }\n",
       "</style>\n",
       "<table border=\"1\" class=\"dataframe\">\n",
       "  <thead>\n",
       "    <tr style=\"text-align: right;\">\n",
       "      <th></th>\n",
       "      <th>bdate</th>\n",
       "      <th>city</th>\n",
       "      <th>country</th>\n",
       "      <th>deactivated</th>\n",
       "      <th>domain</th>\n",
       "      <th>education_form</th>\n",
       "      <th>education_status</th>\n",
       "      <th>facebook</th>\n",
       "      <th>facebook_name</th>\n",
       "      <th>faculty</th>\n",
       "      <th>faculty_name</th>\n",
       "      <th>first_name</th>\n",
       "      <th>followers_count</th>\n",
       "      <th>graduation</th>\n",
       "      <th>has_mobile</th>\n",
       "      <th>home_town</th>\n",
       "      <th>instagram</th>\n",
       "      <th>last_name</th>\n",
       "      <th>last_seen</th>\n",
       "      <th>livejournal</th>\n",
       "      <th>occupation</th>\n",
       "      <th>relation</th>\n",
       "      <th>relation_partner</th>\n",
       "      <th>sex</th>\n",
       "      <th>skype</th>\n",
       "      <th>twitter</th>\n",
       "      <th>uid</th>\n",
       "      <th>universities</th>\n",
       "      <th>university</th>\n",
       "      <th>university_name</th>\n",
       "    </tr>\n",
       "  </thead>\n",
       "  <tbody>\n",
       "    <tr>\n",
       "      <th>0</th>\n",
       "      <td>10.2</td>\n",
       "      <td>2.0</td>\n",
       "      <td>1.0</td>\n",
       "      <td>NaN</td>\n",
       "      <td>rozenkat</td>\n",
       "      <td>NaN</td>\n",
       "      <td>NaN</td>\n",
       "      <td>NaN</td>\n",
       "      <td>NaN</td>\n",
       "      <td>NaN</td>\n",
       "      <td>NaN</td>\n",
       "      <td>Катя</td>\n",
       "      <td>NaN</td>\n",
       "      <td>NaN</td>\n",
       "      <td>1.0</td>\n",
       "      <td>NaN</td>\n",
       "      <td>NaN</td>\n",
       "      <td>Розенберг</td>\n",
       "      <td>{'time': 1550144355, 'platform': 2}</td>\n",
       "      <td>NaN</td>\n",
       "      <td>{'type': 'university', 'id': 1, 'name': 'СПбГУ'}</td>\n",
       "      <td>NaN</td>\n",
       "      <td>NaN</td>\n",
       "      <td>1</td>\n",
       "      <td>NaN</td>\n",
       "      <td>NaN</td>\n",
       "      <td>279</td>\n",
       "      <td>NaN</td>\n",
       "      <td>NaN</td>\n",
       "      <td>NaN</td>\n",
       "    </tr>\n",
       "    <tr>\n",
       "      <th>1</th>\n",
       "      <td>NaN</td>\n",
       "      <td>NaN</td>\n",
       "      <td>NaN</td>\n",
       "      <td>banned</td>\n",
       "      <td>id348</td>\n",
       "      <td>NaN</td>\n",
       "      <td>NaN</td>\n",
       "      <td>NaN</td>\n",
       "      <td>NaN</td>\n",
       "      <td>NaN</td>\n",
       "      <td>NaN</td>\n",
       "      <td>Галина</td>\n",
       "      <td>NaN</td>\n",
       "      <td>NaN</td>\n",
       "      <td>NaN</td>\n",
       "      <td>NaN</td>\n",
       "      <td>NaN</td>\n",
       "      <td>Румянцева</td>\n",
       "      <td>NaN</td>\n",
       "      <td>NaN</td>\n",
       "      <td>NaN</td>\n",
       "      <td>NaN</td>\n",
       "      <td>NaN</td>\n",
       "      <td>1</td>\n",
       "      <td>NaN</td>\n",
       "      <td>NaN</td>\n",
       "      <td>348</td>\n",
       "      <td>NaN</td>\n",
       "      <td>NaN</td>\n",
       "      <td>NaN</td>\n",
       "    </tr>\n",
       "    <tr>\n",
       "      <th>2</th>\n",
       "      <td>NaN</td>\n",
       "      <td>0.0</td>\n",
       "      <td>0.0</td>\n",
       "      <td>NaN</td>\n",
       "      <td>id510</td>\n",
       "      <td>NaN</td>\n",
       "      <td>NaN</td>\n",
       "      <td>NaN</td>\n",
       "      <td>NaN</td>\n",
       "      <td>NaN</td>\n",
       "      <td>NaN</td>\n",
       "      <td>Анатолий</td>\n",
       "      <td>17415.0</td>\n",
       "      <td>NaN</td>\n",
       "      <td>1.0</td>\n",
       "      <td>NaN</td>\n",
       "      <td>NaN</td>\n",
       "      <td>Карпенко</td>\n",
       "      <td>{'time': 1550089293, 'platform': 7}</td>\n",
       "      <td>NaN</td>\n",
       "      <td>NaN</td>\n",
       "      <td>NaN</td>\n",
       "      <td>NaN</td>\n",
       "      <td>2</td>\n",
       "      <td>NaN</td>\n",
       "      <td>NaN</td>\n",
       "      <td>510</td>\n",
       "      <td>NaN</td>\n",
       "      <td>NaN</td>\n",
       "      <td>NaN</td>\n",
       "    </tr>\n",
       "    <tr>\n",
       "      <th>3</th>\n",
       "      <td>NaN</td>\n",
       "      <td>NaN</td>\n",
       "      <td>NaN</td>\n",
       "      <td>banned</td>\n",
       "      <td>id619</td>\n",
       "      <td>NaN</td>\n",
       "      <td>NaN</td>\n",
       "      <td>NaN</td>\n",
       "      <td>NaN</td>\n",
       "      <td>NaN</td>\n",
       "      <td>NaN</td>\n",
       "      <td>Алексей</td>\n",
       "      <td>NaN</td>\n",
       "      <td>NaN</td>\n",
       "      <td>NaN</td>\n",
       "      <td>NaN</td>\n",
       "      <td>NaN</td>\n",
       "      <td>Бардаш</td>\n",
       "      <td>NaN</td>\n",
       "      <td>NaN</td>\n",
       "      <td>NaN</td>\n",
       "      <td>NaN</td>\n",
       "      <td>NaN</td>\n",
       "      <td>2</td>\n",
       "      <td>NaN</td>\n",
       "      <td>NaN</td>\n",
       "      <td>619</td>\n",
       "      <td>NaN</td>\n",
       "      <td>NaN</td>\n",
       "      <td>NaN</td>\n",
       "    </tr>\n",
       "    <tr>\n",
       "      <th>4</th>\n",
       "      <td>20.5.1987</td>\n",
       "      <td>0.0</td>\n",
       "      <td>0.0</td>\n",
       "      <td>NaN</td>\n",
       "      <td>ilyaa.orlov</td>\n",
       "      <td>NaN</td>\n",
       "      <td>NaN</td>\n",
       "      <td>NaN</td>\n",
       "      <td>NaN</td>\n",
       "      <td>0.0</td>\n",
       "      <td></td>\n",
       "      <td>Илья</td>\n",
       "      <td>69697.0</td>\n",
       "      <td>0.0</td>\n",
       "      <td>0.0</td>\n",
       "      <td>Санкт-Петербург</td>\n",
       "      <td>NaN</td>\n",
       "      <td>Орлов</td>\n",
       "      <td>{'time': 1399761902, 'platform': 7}</td>\n",
       "      <td>NaN</td>\n",
       "      <td>NaN</td>\n",
       "      <td>5.0</td>\n",
       "      <td>NaN</td>\n",
       "      <td>2</td>\n",
       "      <td>NaN</td>\n",
       "      <td>NaN</td>\n",
       "      <td>914</td>\n",
       "      <td>[]</td>\n",
       "      <td>0.0</td>\n",
       "      <td></td>\n",
       "    </tr>\n",
       "  </tbody>\n",
       "</table>\n",
       "</div>"
      ],
      "text/plain": [
       "       bdate  city  country deactivated       domain education_form  \\\n",
       "0       10.2   2.0      1.0         NaN     rozenkat            NaN   \n",
       "1        NaN   NaN      NaN      banned        id348            NaN   \n",
       "2        NaN   0.0      0.0         NaN        id510            NaN   \n",
       "3        NaN   NaN      NaN      banned        id619            NaN   \n",
       "4  20.5.1987   0.0      0.0         NaN  ilyaa.orlov            NaN   \n",
       "\n",
       "  education_status facebook facebook_name  faculty faculty_name first_name  \\\n",
       "0              NaN      NaN           NaN      NaN          NaN       Катя   \n",
       "1              NaN      NaN           NaN      NaN          NaN     Галина   \n",
       "2              NaN      NaN           NaN      NaN          NaN   Анатолий   \n",
       "3              NaN      NaN           NaN      NaN          NaN    Алексей   \n",
       "4              NaN      NaN           NaN      0.0                    Илья   \n",
       "\n",
       "   followers_count  graduation  has_mobile        home_town instagram  \\\n",
       "0              NaN         NaN         1.0              NaN       NaN   \n",
       "1              NaN         NaN         NaN              NaN       NaN   \n",
       "2          17415.0         NaN         1.0              NaN       NaN   \n",
       "3              NaN         NaN         NaN              NaN       NaN   \n",
       "4          69697.0         0.0         0.0  Санкт-Петербург       NaN   \n",
       "\n",
       "   last_name                            last_seen livejournal  \\\n",
       "0  Розенберг  {'time': 1550144355, 'platform': 2}         NaN   \n",
       "1  Румянцева                                  NaN         NaN   \n",
       "2   Карпенко  {'time': 1550089293, 'platform': 7}         NaN   \n",
       "3     Бардаш                                  NaN         NaN   \n",
       "4      Орлов  {'time': 1399761902, 'platform': 7}         NaN   \n",
       "\n",
       "                                         occupation  relation  \\\n",
       "0  {'type': 'university', 'id': 1, 'name': 'СПбГУ'}       NaN   \n",
       "1                                               NaN       NaN   \n",
       "2                                               NaN       NaN   \n",
       "3                                               NaN       NaN   \n",
       "4                                               NaN       5.0   \n",
       "\n",
       "  relation_partner  sex skype twitter  uid universities  university  \\\n",
       "0              NaN    1   NaN     NaN  279          NaN         NaN   \n",
       "1              NaN    1   NaN     NaN  348          NaN         NaN   \n",
       "2              NaN    2   NaN     NaN  510          NaN         NaN   \n",
       "3              NaN    2   NaN     NaN  619          NaN         NaN   \n",
       "4              NaN    2   NaN     NaN  914           []         0.0   \n",
       "\n",
       "  university_name  \n",
       "0             NaN  \n",
       "1             NaN  \n",
       "2             NaN  \n",
       "3             NaN  \n",
       "4                  "
      ]
     },
     "execution_count": 7,
     "metadata": {},
     "output_type": "execute_result"
    }
   ],
   "source": [
    "community_ntv_df.head()"
   ]
  },
  {
   "cell_type": "code",
   "execution_count": 8,
   "metadata": {
    "scrolled": true
   },
   "outputs": [
    {
     "data": {
      "image/png": "[encoded data removed]",
      "text/plain": [
       "<IPython.core.display.Image object>"
      ]
     },
     "execution_count": 8,
     "metadata": {},
     "output_type": "execute_result"
    }
   ],
   "source": [
    "##Имеет сысл выбрасить забаненных пользователей\n",
    "from IPython.display import Image\n",
    "Image('deactivated.png')"
   ]
  },
  {
   "cell_type": "code",
   "execution_count": 9,
   "metadata": {},
   "outputs": [],
   "source": [
    "community_ntv_df = community_ntv_df[community_ntv_df.deactivated!='banned']\n",
    "community_tvrain_df =community_tvrain_df[community_tvrain_df.deactivated!='banned']"
   ]
  },
  {
   "cell_type": "code",
   "execution_count": null,
   "metadata": {},
   "outputs": [],
   "source": []
  },
  {
   "cell_type": "markdown",
   "metadata": {},
   "source": [
    "Сначала получим всех уникальных подписчиков НТВ и Дождя с помощью unique. Далее с помощью numpy.random необходимо выбрать небольшой sample (например, по 1000 из каждой группы) таких людей и объединить их вместе"
   ]
  },
  {
   "cell_type": "code",
   "execution_count": 10,
   "metadata": {},
   "outputs": [],
   "source": [
    "ntv_uids = community_ntv_df.uid.unique().tolist()\n",
    "tvrain_uids = community_tvrain_df.uid.unique().tolist()"
   ]
  },
  {
   "cell_type": "code",
   "execution_count": 11,
   "metadata": {},
   "outputs": [],
   "source": [
    "# получить общий список людей из двух выборок НТВ и Дождя, всего должно быть в итоге около 2000 человек\n",
    "\n",
    "\n",
    "\n",
    "ntv_uids_small=np.random.choice(ntv_uids, 1000, replace=False).tolist()\n",
    "\n",
    "tvrain_uids_small=np.random.choice(tvrain_uids, 1000, replace=False).tolist()\n",
    "uids = ntv_uids_small+tvrain_uids_small"
   ]
  },
  {
   "cell_type": "code",
   "execution_count": 79,
   "metadata": {},
   "outputs": [],
   "source": [
    "save_obj(uids, 'uids')"
   ]
  },
  {
   "cell_type": "code",
   "execution_count": 80,
   "metadata": {},
   "outputs": [],
   "source": [
    "save_obj(ntv_uids_small, 'ntv_uids_small')\n",
    "save_obj(tvrain_uids_small, 'tvrain_uids_small')"
   ]
  },
  {
   "cell_type": "code",
   "execution_count": 12,
   "metadata": {},
   "outputs": [
    {
     "data": {
      "text/plain": [
       "2000"
      ]
     },
     "execution_count": 12,
     "metadata": {},
     "output_type": "execute_result"
    }
   ],
   "source": [
    "len(uids)"
   ]
  },
  {
   "cell_type": "code",
   "execution_count": 26,
   "metadata": {},
   "outputs": [
    {
     "data": {
      "text/plain": [
       "[341993056, 16743445, 336987801]"
      ]
     },
     "execution_count": 26,
     "metadata": {},
     "output_type": "execute_result"
    }
   ],
   "source": [
    "uids[:3]"
   ]
  },
  {
   "cell_type": "code",
   "execution_count": 41,
   "metadata": {},
   "outputs": [
    {
     "name": "stdout",
     "output_type": "stream",
     "text": [
      "0 profiles done\n",
      "100 profiles done\n",
      "200 profiles done\n",
      "300 profiles done\n",
      "400 profiles done\n",
      "500 profiles done\n",
      "600 profiles done\n",
      "700 profiles done\n",
      "800 profiles done\n",
      "900 profiles done\n",
      "1000 profiles done\n",
      "1100 profiles done\n",
      "1200 profiles done\n",
      "1300 profiles done\n",
      "1400 profiles done\n",
      "1500 profiles done\n",
      "1600 profiles done\n",
      "1700 profiles done\n",
      "1800 profiles done\n",
      "1900 profiles done\n"
     ]
    }
   ],
   "source": [
    "# получить подписки этих пользователей\n",
    "print_counter = 0\n",
    "final_data = []\n",
    "\n",
    "for uid in uids[:]:\n",
    "    try:\n",
    "        user_subs = vk_get_response(\n",
    "            'users.getSubscriptions', 'user_id={0}&v=4.9&lang=ru'.format(int(uid)), access_token\n",
    "        )\n",
    "        time.sleep(0.3)\n",
    "       # print(user_subs)\n",
    "        final_data.append(user_subs)\n",
    "    except:\n",
    "        print(\"Error\")\n",
    "    if print_counter % 100 == 0:\n",
    "        print(\"{0} profiles done\".format(print_counter))\n",
    "    print_counter += 1"
   ]
  },
  {
   "cell_type": "code",
   "execution_count": 53,
   "metadata": {},
   "outputs": [
    {
     "name": "stdout",
     "output_type": "stream",
     "text": [
      "{'response': {'users': {'count': 0, 'items': []}, 'groups': {'count': 5, 'items': [59992118, 28658784, 25380626, 71772984, 96196967]}}} 341993056\n"
     ]
    }
   ],
   "source": [
    "for record, uid in zip(final_data, uids):\n",
    "    print(record, uid)\n",
    "    break"
   ]
  },
  {
   "cell_type": "code",
   "execution_count": null,
   "metadata": {},
   "outputs": [],
   "source": []
  },
  {
   "cell_type": "code",
   "execution_count": 217,
   "metadata": {},
   "outputs": [],
   "source": [
    "#Запишем группы пользователей долждя и нтв\n",
    "groups_only_ntv=[]\n",
    "groups_only_rain=[]\n",
    "groups_ntv_and_rain=[]\n",
    "for record, uid in zip(final_data, uids):\n",
    "    #print(uid)\n",
    "    try:\n",
    "        if (uid in ntv_uids_small) and (uid in  tvrain_uids_small) :\n",
    "           # print(record['response']['groups']['items'])\n",
    "            print(uid)\n",
    "            groups_ntv_and_rain.extend(record['response']['groups']['items'])\n",
    "           # break\n",
    "        elif (uid in ntv_uids_small):\n",
    "            #print(record['response']['groups']['items'][:])\n",
    "            #print(uid,2)\n",
    "            groups_only_ntv.extend(record['response']['groups']['items'])\n",
    "            #break\n",
    "        elif (uid in  tvrain_uids_small):\n",
    "            #print(record['response']['groups']['items'])\n",
    "            #print(uid)   \n",
    "            groups_only_rain.extend(record['response']['groups']['items'])\n",
    "            #break\n",
    "    except:\n",
    "        pass\n",
    "    #break "
   ]
  },
  {
   "cell_type": "code",
   "execution_count": 218,
   "metadata": {},
   "outputs": [],
   "source": [
    "groups_only_ntv=list(set(groups_only_ntv))\n",
    "groups_only_rain=list(set(groups_only_rain))"
   ]
  },
  {
   "cell_type": "code",
   "execution_count": 192,
   "metadata": {},
   "outputs": [
    {
     "data": {
      "text/plain": [
       "[]"
      ]
     },
     "execution_count": 192,
     "metadata": {},
     "output_type": "execute_result"
    }
   ],
   "source": [
    "# Наши случайно выбранные пользователи не пересеклись\n",
    "groups_ntv_and_rain\n"
   ]
  },
  {
   "cell_type": "code",
   "execution_count": null,
   "metadata": {},
   "outputs": [],
   "source": []
  },
  {
   "cell_type": "code",
   "execution_count": 168,
   "metadata": {},
   "outputs": [
    {
     "name": "stdout",
     "output_type": "stream",
     "text": [
      "Processed 100 users\n",
      "Processed 200 users\n",
      "Processed 300 users\n",
      "Processed 400 users\n",
      "Processed 500 users\n",
      "Processed 500 users\n",
      "Processed 600 users\n",
      "Processed 700 users\n",
      "Processed 800 users\n",
      "Processed 900 users\n",
      "Processed 1000 users\n",
      "Processed 1100 users\n",
      "Processed 1200 users\n",
      "Processed 1300 users\n",
      "Processed 1400 users\n",
      "Processed 1400 users\n",
      "Processed 1500 users\n"
     ]
    }
   ],
   "source": [
    "subs_list = []\n",
    "groups_freq_dict = {}\n",
    "top_n = 5\n",
    "\n",
    "for record, uid in zip(final_data, uids):\n",
    "    try:\n",
    "        user_subs = record\n",
    "        if not user_subs.get('response'):\n",
    "            user_subs = vk_get_response(\n",
    "                'users.getSubscriptions', 'user_id={0}&v=4.9&lang=ru'.format(int(uid)), access_token\n",
    "            )\n",
    "        subs_pd = pd.DataFrame(\n",
    "            [\n",
    "                {\n",
    "                    'groups_count': user_subs['response']['groups'].get('count'),\n",
    "                    'groups_list': user_subs['response']['groups'].get('items'),\n",
    "                    'follows_count':user_subs['response']['users'].get('count'),\n",
    "                    'follows_list': user_subs['response']['users'].get('items'),\n",
    "                }\n",
    "            ]\n",
    "        )\n",
    "\n",
    "        for group_id in user_subs['response']['groups'].get('items')[:top_n]:\n",
    "            if groups_freq_dict.get(group_id):\n",
    "                groups_freq_dict[group_id] += 1\n",
    "            else:\n",
    "                groups_freq_dict[group_id] = 1\n",
    "\n",
    "        subs_pd['subs_count'] = subs_pd['groups_count'] + subs_pd['follows_count']\n",
    "        subs_list.append(subs_pd)\n",
    "    except:\n",
    "#         print(user_subs)\n",
    "        pass\n",
    "    if len(subs_list) % 100 == 0:\n",
    "        print(\"Processed {0} users\".format(len(subs_list)))"
   ]
  },
  {
   "cell_type": "code",
   "execution_count": 169,
   "metadata": {},
   "outputs": [
    {
     "data": {
      "text/plain": [
       "1567"
      ]
     },
     "execution_count": 169,
     "metadata": {},
     "output_type": "execute_result"
    }
   ],
   "source": [
    "len(subs_list)"
   ]
  },
  {
   "cell_type": "code",
   "execution_count": null,
   "metadata": {},
   "outputs": [],
   "source": []
  },
  {
   "cell_type": "code",
   "execution_count": 72,
   "metadata": {},
   "outputs": [],
   "source": [
    "\n",
    "save_obj(groups_freq_dict, 'groups_freq_dict')"
   ]
  },
  {
   "cell_type": "markdown",
   "metadata": {},
   "source": [
    "Самые популярные группы"
   ]
  },
  {
   "cell_type": "code",
   "execution_count": 66,
   "metadata": {},
   "outputs": [
    {
     "data": {
      "text/plain": [
       "[(17568841, 231),\n",
       " (28658784, 183),\n",
       " (15755094, 65),\n",
       " (24199209, 29),\n",
       " (40316705, 29)]"
      ]
     },
     "execution_count": 66,
     "metadata": {},
     "output_type": "execute_result"
    }
   ],
   "source": [
    "sorted([(key, val) for key, val in groups_freq_dict.items()], key=lambda x: x[1], reverse=True)[:5]"
   ]
  },
  {
   "cell_type": "markdown",
   "metadata": {},
   "source": [
    "Загрузка постов со стен групп"
   ]
  },
  {
   "cell_type": "code",
   "execution_count": 69,
   "metadata": {},
   "outputs": [
    {
     "name": "stdout",
     "output_type": "stream",
     "text": [
      "100 groups extracted\n",
      "200 groups extracted\n",
      "300 groups extracted\n",
      "400 groups extracted\n",
      "500 groups extracted\n",
      "Response error. Group id 170321944\n",
      "{'error': {'error_code': 15, 'error_msg': 'Access denied: this wall available only for community members', 'request_params': [{'key': 'oauth', 'value': '1'}, {'key': 'method', 'value': 'wall.get'}, {'key': 'owner_id', 'value': '-170321944'}, {'key': 'count', 'value': '100'}, {'key': 'fields', 'value': 'post_type,marked_as_ads'}, {'key': '', 'value': ''}, {'key': 'v', 'value': '4.9'}, {'key': 'lang', 'value': 'ru'}]}}\n",
      "600 groups extracted\n",
      "700 groups extracted\n",
      "800 groups extracted\n",
      "900 groups extracted\n",
      "1000 groups extracted\n",
      "Response error. Group id 77610102\n",
      "{'error': {'error_code': 15, 'error_msg': 'Access denied: this wall available only for community members', 'request_params': [{'key': 'oauth', 'value': '1'}, {'key': 'method', 'value': 'wall.get'}, {'key': 'owner_id', 'value': '-77610102'}, {'key': 'count', 'value': '100'}, {'key': 'fields', 'value': 'post_type,marked_as_ads'}, {'key': '', 'value': ''}, {'key': 'v', 'value': '4.9'}, {'key': 'lang', 'value': 'ru'}]}}\n",
      "1100 groups extracted\n",
      "1200 groups extracted\n",
      "1300 groups extracted\n",
      "1400 groups extracted\n",
      "1500 groups extracted\n",
      "Response error. Group id 73438239\n",
      "{'error': {'error_code': 15, 'error_msg': 'Access denied: this wall available only for community members', 'request_params': [{'key': 'oauth', 'value': '1'}, {'key': 'method', 'value': 'wall.get'}, {'key': 'owner_id', 'value': '-73438239'}, {'key': 'count', 'value': '100'}, {'key': 'fields', 'value': 'post_type,marked_as_ads'}, {'key': '', 'value': ''}, {'key': 'v', 'value': '4.9'}, {'key': 'lang', 'value': 'ru'}]}}\n",
      "1600 groups extracted\n",
      "1700 groups extracted\n",
      "1800 groups extracted\n",
      "1900 groups extracted\n",
      "2000 groups extracted\n",
      "2100 groups extracted\n",
      "2200 groups extracted\n",
      "2300 groups extracted\n",
      "Response error. Group id 127724141\n",
      "{'error': {'error_code': 15, 'error_msg': 'Access denied: this wall available only for community members', 'request_params': [{'key': 'oauth', 'value': '1'}, {'key': 'method', 'value': 'wall.get'}, {'key': 'owner_id', 'value': '-127724141'}, {'key': 'count', 'value': '100'}, {'key': 'fields', 'value': 'post_type,marked_as_ads'}, {'key': '', 'value': ''}, {'key': 'v', 'value': '4.9'}, {'key': 'lang', 'value': 'ru'}]}}\n",
      "2400 groups extracted\n",
      "2500 groups extracted\n",
      "2600 groups extracted\n",
      "2700 groups extracted\n",
      "2800 groups extracted\n",
      "2900 groups extracted\n",
      "3000 groups extracted\n",
      "3100 groups extracted\n",
      "3200 groups extracted\n",
      "3300 groups extracted\n",
      "3400 groups extracted\n",
      "3500 groups extracted\n",
      "Response error. Group id 23054528\n",
      "{'error': {'error_code': 15, 'error_msg': 'Access denied: this wall available only for community members', 'request_params': [{'key': 'oauth', 'value': '1'}, {'key': 'method', 'value': 'wall.get'}, {'key': 'owner_id', 'value': '-23054528'}, {'key': 'count', 'value': '100'}, {'key': 'fields', 'value': 'post_type,marked_as_ads'}, {'key': '', 'value': ''}, {'key': 'v', 'value': '4.9'}, {'key': 'lang', 'value': 'ru'}]}}\n",
      "Response error. Group id 77521971\n",
      "{'error': {'error_code': 15, 'error_msg': 'Access denied: this wall available only for community members', 'request_params': [{'key': 'oauth', 'value': '1'}, {'key': 'method', 'value': 'wall.get'}, {'key': 'owner_id', 'value': '-77521971'}, {'key': 'count', 'value': '100'}, {'key': 'fields', 'value': 'post_type,marked_as_ads'}, {'key': '', 'value': ''}, {'key': 'v', 'value': '4.9'}, {'key': 'lang', 'value': 'ru'}]}}\n",
      "3600 groups extracted\n",
      "3700 groups extracted\n",
      "3800 groups extracted\n",
      "3900 groups extracted\n",
      "4000 groups extracted\n",
      "4100 groups extracted\n",
      "4200 groups extracted\n",
      "4300 groups extracted\n",
      "Response error. Group id 93235433\n",
      "{'error': {'error_code': 15, 'error_msg': 'Access denied: this wall available only for community members', 'request_params': [{'key': 'oauth', 'value': '1'}, {'key': 'method', 'value': 'wall.get'}, {'key': 'owner_id', 'value': '-93235433'}, {'key': 'count', 'value': '100'}, {'key': 'fields', 'value': 'post_type,marked_as_ads'}, {'key': '', 'value': ''}, {'key': 'v', 'value': '4.9'}, {'key': 'lang', 'value': 'ru'}]}}\n",
      "4400 groups extracted\n",
      "4500 groups extracted\n",
      "4600 groups extracted\n"
     ]
    }
   ],
   "source": [
    "group_doc_dict = {}\n",
    "counter = 0\n",
    "groups_freq_dict_top5 = groups_freq_dict\n",
    "\n",
    "for group_id, freq in groups_freq_dict_top5.items():\n",
    "    counter += 1\n",
    "    try:\n",
    "        check = vk_get_response(\n",
    "            'wall.get',\n",
    "            'owner_id={0}&count=100&fields=post_type,marked_as_ads&&v=4.9&lang=ru'.format(int(group_id) * -1),\n",
    "            access_token\n",
    "        )\n",
    "        check = check['response']\n",
    "        group_doc = ''\n",
    "        if check[0] != 0:\n",
    "            for post in check[1:]:\n",
    "                if post.get('marked_as_ads') != 1:\n",
    "                    group_doc += post['text']\n",
    "        group_doc_dict[group_id] = group_doc\n",
    "    except:\n",
    "        print(\"Response error. Group id {0}\".format(group_id))\n",
    "        print(check)\n",
    "    if counter % 100 == 0:\n",
    "        print(\"{0} groups extracted\".format(counter))\n",
    "    time.sleep(0.3)"
   ]
  },
  {
   "cell_type": "code",
   "execution_count": 70,
   "metadata": {},
   "outputs": [],
   "source": [
    "\n",
    "save_obj(group_doc_dict, 'group_doc_dict')"
   ]
  },
  {
   "cell_type": "code",
   "execution_count": 73,
   "metadata": {},
   "outputs": [],
   "source": [
    "group_doc_dict=load_obj('group_doc_dict')"
   ]
  },
  {
   "cell_type": "code",
   "execution_count": 74,
   "metadata": {},
   "outputs": [
    {
     "name": "stderr",
     "output_type": "stream",
     "text": [
      "[nltk_data] Downloading package stopwords to /home/gavril/nltk_data...\n",
      "[nltk_data]   Package stopwords is already up-to-date!\n"
     ]
    },
    {
     "data": {
      "text/plain": [
       "True"
      ]
     },
     "execution_count": 74,
     "metadata": {},
     "output_type": "execute_result"
    }
   ],
   "source": [
    "import nltk\n",
    "nltk.download('stopwords')"
   ]
  },
  {
   "cell_type": "code",
   "execution_count": 75,
   "metadata": {},
   "outputs": [],
   "source": [
    "from bs4 import BeautifulSoup\n",
    "import re\n",
    "import string\n",
    "from nltk import word_tokenize\n",
    "from nltk.corpus import stopwords\n",
    "from nltk.stem.porter import PorterStemmer\n",
    "import nltk\n",
    "from pymorphy2 import MorphAnalyzer"
   ]
  },
  {
   "cell_type": "code",
   "execution_count": 76,
   "metadata": {},
   "outputs": [],
   "source": [
    "chrs_to_delete = string.punctuation + u'»' + u'«' + u'—' + u'“' + u'„' + u'•' + u'#'\n",
    "translation_table = {ord(c): None for c in chrs_to_delete if c != u'-'}\n",
    "units = MorphAnalyzer.DEFAULT_UNITS\n",
    "morph = MorphAnalyzer(result_type=None, units=units)\n",
    "PortSt = PorterStemmer()\n",
    "stopw = set(\n",
    "    [w for w in stopwords.words(['russian', 'english'])]\n",
    "    + [u'это', u'году', u'года', u'также', u'етот',\n",
    "       u'которые', u'который', u'которая', u'поэтому',\n",
    "       u'весь', u'свой', u'мочь', u'eтот', u'например',\n",
    "       u'какой-то', u'кто-то', u'самый', u'очень', u'несколько',\n",
    "       u'источник', u'стать', u'время', u'пока', u'однако',\n",
    "       u'около', u'немного', u'кроме', u'гораздо', u'каждый',\n",
    "       u'первый', u'вполне', u'из-за', u'из-под',\n",
    "       u'второй', u'нужно', u'нужный', u'просто', u'большой',\n",
    "       u'хороший', u'хотеть', u'начать', u'должный', u'новый', u'день',\n",
    "       u'метр', u'получить', u'далее', u'именно', u'апрель',\n",
    "       u'сообщать', u'разный', u'говорить', u'делать',\n",
    "       u'появиться', u'2016',\n",
    "       u'2015', u'получить', u'иметь', u'составить', u'дать', u'читать',\n",
    "       u'ничто', u'достаточно', u'использовать',\n",
    "       u'принять', u'практически',\n",
    "       u'находиться', u'месяц', u'достаточно', u'что-то', u'часто',\n",
    "       u'хотеть', u'начаться', u'делать', u'событие', u'составлять',\n",
    "       u'остаться', u'заявить', u'сделать', u'дело',\n",
    "       u'примерно', u'попасть', u'хотя', u'лишь', u'первое',\n",
    "       u'больший', u'решить', u'число', u'идти', u'давать', u'вопрос',\n",
    "       u'сегодня', u'часть', u'высокий', u'главный', u'случай', u'место',\n",
    "       u'конец', u'работать', u'работа', u'слово', u'важный', u'сказать']\n",
    ")"
   ]
  },
  {
   "cell_type": "code",
   "execution_count": 77,
   "metadata": {},
   "outputs": [],
   "source": [
    "url_start = 'http[s]?://'\n",
    "url_end = (\n",
    "    '(?:[a-zA-Z]|[0-9]|[$-_@.&+]|[!*\\(\\),]|(?:%[0-9a-fA-F][0-9a-fA-F]))+'\n",
    ")\n",
    "pattern = url_start + url_end"
   ]
  },
  {
   "cell_type": "markdown",
   "metadata": {},
   "source": [
    "Обработка слов постов групп - трансформация в \"хороший\" вид. Нормализация и стэмминг, удаление стоп-слов"
   ]
  },
  {
   "cell_type": "code",
   "execution_count": 78,
   "metadata": {},
   "outputs": [
    {
     "name": "stderr",
     "output_type": "stream",
     "text": [
      "[nltk_data] Downloading package punkt to /home/gavril/nltk_data...\n",
      "[nltk_data]   Package punkt is already up-to-date!\n"
     ]
    },
    {
     "data": {
      "text/plain": [
       "True"
      ]
     },
     "execution_count": 78,
     "metadata": {},
     "output_type": "execute_result"
    }
   ],
   "source": [
    "nltk.download('punkt')"
   ]
  },
  {
   "cell_type": "code",
   "execution_count": 81,
   "metadata": {},
   "outputs": [
    {
     "name": "stdout",
     "output_type": "stream",
     "text": [
      "100 docs processed\n",
      "200 docs processed\n",
      "300 docs processed\n",
      "400 docs processed\n"
     ]
    },
    {
     "name": "stderr",
     "output_type": "stream",
     "text": [
      "/home/gavril/.local/lib/python3.6/site-packages/bs4/__init__.py:335: UserWarning: \"http://www.tvpokaz.comC:\\Windows\\System32)\" looks like a URL. Beautiful Soup is not an HTTP client. You should probably use an HTTP client like requests to get the document behind the URL, and feed that document to Beautiful Soup.\n",
      "  ' that document to Beautiful Soup.' % decoded_markup\n"
     ]
    },
    {
     "name": "stdout",
     "output_type": "stream",
     "text": [
      "500 docs processed\n",
      "600 docs processed\n",
      "700 docs processed\n",
      "800 docs processed\n",
      "900 docs processed\n",
      "1000 docs processed\n",
      "1100 docs processed\n",
      "1200 docs processed\n",
      "1300 docs processed\n",
      "1400 docs processed\n",
      "1500 docs processed\n",
      "1600 docs processed\n",
      "1700 docs processed\n",
      "1800 docs processed\n",
      "1900 docs processed\n",
      "2000 docs processed\n",
      "2100 docs processed\n",
      "2200 docs processed\n",
      "2300 docs processed\n",
      "2400 docs processed\n",
      "2500 docs processed\n",
      "2600 docs processed\n",
      "2700 docs processed\n",
      "2800 docs processed\n",
      "2900 docs processed\n",
      "3000 docs processed\n",
      "3100 docs processed\n",
      "3200 docs processed\n",
      "3300 docs processed\n",
      "3400 docs processed\n",
      "3500 docs processed\n",
      "3600 docs processed\n",
      "3700 docs processed\n",
      "3800 docs processed\n",
      "3900 docs processed\n",
      "4000 docs processed\n",
      "4100 docs processed\n",
      "4200 docs processed\n",
      "4300 docs processed\n",
      "4400 docs processed\n",
      "4500 docs processed\n",
      "4600 docs processed\n"
     ]
    }
   ],
   "source": [
    "group_clean_doc_dict = {}\n",
    "counter = 0\n",
    "\n",
    "for group_id, doc in group_doc_dict.items():\n",
    "    soup = BeautifulSoup(doc, 'html.parser')\n",
    "    body = ' '.join(\n",
    "        [tag.string.replace('\\\\n', ' ').replace('\\\\r', ' ')\n",
    "         for tag in soup.descendants if tag.string]\n",
    "    )\n",
    "    body = re.sub('\\[.*?\\]','', body)\n",
    "    body = re.sub(pattern,'', body)\n",
    "    if body != '':\n",
    "        body_clean = body.translate(translation_table).lower().strip()\n",
    "        words = word_tokenize(body_clean)\n",
    "        tokens = []\n",
    "        # stemming and text normalization\n",
    "        for word in words:\n",
    "            if re.match('^[a-z0-9-]+$', word) is not None:\n",
    "                tokens.append(PortSt.stem(word))\n",
    "            elif word.count('-') > 1:\n",
    "                tokens.append(word)\n",
    "            else:\n",
    "                normal_forms = morph.normal_forms(word)\n",
    "                tokens.append(normal_forms[0] if normal_forms else word)\n",
    "        # remove stopwords and leave unique words only\n",
    "        tokens = filter(\n",
    "            lambda token: token not in stopw, sorted(set(tokens))\n",
    "        )\n",
    "\n",
    "        # remove all words with more than 3 chars\n",
    "        tokens = filter(lambda token: len(token) > 3, tokens)\n",
    "    else:\n",
    "        tokens = []\n",
    "    counter += 1\n",
    "    if counter % 100 == 0:\n",
    "        print(\"{0} docs processed\".format(counter))\n",
    "    group_clean_doc_dict[group_id] = tokens\n",
    "\n",
    "group_clean_doc_dict = {key: list(val) for key, val in group_clean_doc_dict.items()}"
   ]
  },
  {
   "cell_type": "code",
   "execution_count": 82,
   "metadata": {},
   "outputs": [],
   "source": [
    "# сохранить обработанные данные на диск\n",
    "save_obj(group_clean_doc_dict, 'group_doc_dict_clean')"
   ]
  },
  {
   "cell_type": "code",
   "execution_count": 83,
   "metadata": {},
   "outputs": [],
   "source": [
    "group_clean_doc_dict=load_obj('group_doc_dict_clean')"
   ]
  },
  {
   "cell_type": "markdown",
   "metadata": {},
   "source": [
    "### Обучение LDA модели"
   ]
  },
  {
   "cell_type": "code",
   "execution_count": 84,
   "metadata": {},
   "outputs": [],
   "source": [
    "from gensim.corpora import TextCorpus\n",
    "from gensim.models.ldamulticore import LdaMulticore\n",
    "from gensim.models.ldamodel import LdaModel\n",
    "\n",
    "class ListTextCorpus(TextCorpus):\n",
    "\n",
    "    def get_texts(self):\n",
    "        for doc in self.input:\n",
    "            yield doc\n",
    "                \n",
    "mycorp = ListTextCorpus(input=group_clean_doc_dict.values())\n",
    "justlda = LdaModel(\n",
    "    corpus=mycorp, num_topics=20, passes=12\n",
    ")"
   ]
  },
  {
   "cell_type": "code",
   "execution_count": 241,
   "metadata": {},
   "outputs": [
    {
     "name": "stdout",
     "output_type": "stream",
     "text": [
      "LdaModel performance\n",
      "0 😄😄😄😄😄😄😻😄😄😛😻сильный постсмотрелиахааххаха😛клёвый ребята😍💋😛😘💋😻💗😍😍❤😛💗😛😄ный 👍💋😻💗💋😛😛💗красота😍😄👏🏻😘😍💗😛😘😍😛😻👏🏻💗😄😄😄💗💋❤😻👏🏻❤💋😍💋💋😄😛😎😁😘😃уау😍😍😍😍💋😝😘😘😘😘❤❤😚😨😨😝😝😝💋❤😍❤😛❤😄❤😛😄😍💋👏🏻😁😍😍😲😛😛😛😛💋😍❤❤❤😛😁😁😁 191118 311218 2быть 1репостнуть vkmeclashgcrvkmeroyalemoon🎲играть vkmeclashgcrнаписать\n",
      "1 love music night like time live year life last record\n",
      "2 донаука-вона горетцк миллуол ньюпорт 🇬🇧англия леганес саутенд бромвич херенвено переигровка\n",
      "3 себевота зналиинтересный себеа зналив себеинтересный курсеинтересный такиеинтересный курсеа знатьинтересный статистикева\n",
      "4 приготовление масло ингредиент ложка рецепт мягкий вкусный яйцо соль нарезать\n",
      "5 сoтня сехудо рaзойтись исраэль диллашоу пoзвать cнежка соcедея мораес леснар\n",
      "6 болган турар алган турд кызыл болгаш дугайында эвес дуза биль\n",
      "7 человек жизнь знать друг любить думать жить любовь смотреть видеть\n",
      "8 7990р кopпyc прoвeрки👍 работa 😍милый 5580 blackview ⚡pаспродавать склада⚡ ✔батарея\n",
      "9 рубль февраль группа новое город информация участие фото россия человек\n",
      "10 січень дніть площі чекають фільм жінка залишиться факть вигляд стилі\n",
      "11 способствовать почка препарат восстанавливать заболевание мышца стимулировать профилактика сустав применение\n",
      "12 огюстен сент-беть принтомвеликолепие шик✨✨✨стильный белоголюбитель 👍брючный анималистичный 💫восхитительный великолепен💥💥💥💫💫💫джинса тренде✨прелесть\n",
      "13 пpиготовлeние помидоp ваpить cливка вилкoть куcочки мopкoвить вcкипятить петpушко формy\n",
      "14 скостить стpанно февраль pемонт стаpый кваpтиp помощь человек писать ребёнок\n",
      "15 магнитола сцепление резина акппа пробег колодка кузов мотор гнилой мкппа\n",
      "16 2018🔥 🔥новинка🔥 нaчuнaeт пoкuнyть эллиoт что6 гopoдoк мaлeнькuть прокатываться бeнa\n",
      "17 болс үшін мена емес болда деген керека болып енді болада\n",
      "18 оценкукак cтecняшeк смотриновый пoдaрок заказать- hammond деньдарита грyстной вчеpашний carolina\n",
      "19 чтoб мeнить ecть тoлькo мoжнo былo дeнь кoгдa этoт тeбить\n"
     ]
    }
   ],
   "source": [
    "print('LdaModel performance')\n",
    "for i in range(20):\n",
    "    terms = justlda.get_topic_terms(i)\n",
    "    #print('!@',terms)\n",
    "    print(i, ' '.join(map(lambda x: mycorp.dictionary.get(x[0]), terms)))"
   ]
  },
  {
   "cell_type": "code",
   "execution_count": 86,
   "metadata": {},
   "outputs": [
    {
     "name": "stdout",
     "output_type": "stream",
     "text": [
      "Group distribution by the most relevant topic\n"
     ]
    }
   ],
   "source": [
    "dummy_dict = {key: 0 for key in range(20)}\n",
    "\n",
    "group_topics_dict_20 = {\n",
    "    group_id: dict(list(dummy_dict.items()) + justlda.get_document_topics(mycorp.dictionary.doc2bow(text)))\n",
    "    for group_id, text in group_clean_doc_dict.items()\n",
    "}\n",
    "check_pd_20 = pd.DataFrame.from_dict(group_topics_dict_20, orient='index')\n",
    "check_pd_20.head(10)\n",
    "print(\"Group distribution by the most relevant topic\")\n"
   ]
  },
  {
   "cell_type": "code",
   "execution_count": 310,
   "metadata": {},
   "outputs": [],
   "source": [
    "data_plot =pd.Series.round(check_pd_20.idxmax(axis=1).value_counts() * 1. / len(check_pd_20), 2)"
   ]
  },
  {
   "cell_type": "code",
   "execution_count": 312,
   "metadata": {},
   "outputs": [
    {
     "data": {
      "text/plain": [
       "<matplotlib.axes._subplots.AxesSubplot object at 0x7fd62379b5f8>"
      ]
     },
     "execution_count": 312,
     "metadata": {},
     "output_type": "execute_result"
    },
    {
     "data": {
      "image/png": "[encoded data removed]",
      "text/plain": [
       "<Figure size 432x288 with 1 Axes>"
      ]
     },
     "metadata": {
      "needs_background": "light"
     },
     "output_type": "display_data"
    }
   ],
   "source": [
    "data_plot.plot(kind = 'bar',x=\"index\", y=\"values\")"
   ]
  },
  {
   "cell_type": "code",
   "execution_count": 31,
   "metadata": {
    "scrolled": true
   },
   "outputs": [
    {
     "name": "stdout",
     "output_type": "stream",
     "text": [
      "The most typical groups for every topic\n",
      "0 думаетеавтор интересно⚡ стиля😄 романец 💣⚠-💦-🚀-💣- 🇷🇺-🖤🖤🖤-🔥🔥🔥-хороший -отмечаться ⚠💪🏻-🔥🔥🔥всенатебяпалят🌚-👌🏻💦- dobermana ✌🏻-🔥🔥🔥укомплектовать\n",
      "EA7 / MUSIC http://vk.com/club69578534\n",
      "Фотошоп http://vk.com/club9454603\n",
      "Новинки Музыки 2019 http://vk.com/club23745378\n",
      "ДАТЫЧО http://vk.com/club19718945\n",
      "СигнаL http://vk.com/club148059228\n",
      "Ушки Бэтмена http://vk.com/club5838365\n",
      "CROMULENT http://vk.com/club170656205\n",
      "СМС приколы http://vk.com/club25554967\n",
      "СоцТРЭШ http://vk.com/club146435494\n",
      "Спасибо папе за характер.© http://vk.com/club36092580\n",
      "\n",
      "1 уголовный водитель задержать администрация комитет сотрудник ведомство штраф пассажир депутат\n",
      "ŁİŦŦŁΣ ĐΣÅŦĦ http://vk.com/club63854229\n",
      "Стерлитамак ДТП (все происшествия города) http://vk.com/club169122259\n",
      "ЧП Пермский край [16+] http://vk.com/club56172098\n",
      "Зона Х http://vk.com/club126753545\n",
      "Чёткие приколы http://vk.com/club31836774\n",
      "ЧП | Чрезвычайное происшествие | ПЕРМЬ http://vk.com/club95656776\n",
      "Хартия'97 http://vk.com/club28199915\n",
      "СМИ2 - новостной агрегатор http://vk.com/club28700409\n",
      "Rambler News Service http://vk.com/club100502249\n",
      "АВАРИЙНЫЙ КОМИССАР Пермь 273-73-17 http://vk.com/club82417088\n",
      "\n",
      "2 жизнь любить твой человек знать жить никто друг видеть любовь\n",
      "Волшебство http://vk.com/club35190834\n",
      "Мамдаринка | БАТЯ В ЗДАНИИ http://vk.com/club148708103\n",
      "Мужчины Рыбы http://vk.com/club165752382\n",
      "Дерзкая КоКеТкА http://vk.com/club104451533\n",
      "Alea Jacta Est™ http://vk.com/club33879064\n",
      "Факты о Весах http://vk.com/club123140650\n",
      "Советы опытной мамы http://vk.com/club58624415\n",
      "Пауло Коэльо и другие http://vk.com/club24489432\n",
      "Факты о Раках http://vk.com/club123141016\n",
      "Весы   ( 15 февраля ) http://vk.com/club26813657\n",
      "\n",
      "3 звонка👻 😃бот восхитительно бабакак тебявас 119₽обнимать даалапусяпарня бесценныдадаутить лапочкатипикать commentsчеткий\n",
      "трогай моё тело http://vk.com/club158506447\n",
      "ЁП http://vk.com/club12382740\n",
      "perfо́rmance http://vk.com/club42800749\n",
      "Розовый Слон http://vk.com/club177149968\n",
      "Prank Bot http://vk.com/club141870219\n",
      "По венам баб течёт трагедия(18+) http://vk.com/club91410728\n",
      "Школа? Не, не слышали http://vk.com/club26147450\n",
      "Фотографии http://vk.com/club23044992\n",
      "Дерзкий Ёжик http://vk.com/club131263570\n",
      "В курсе. Мода http://vk.com/club26205188\n",
      "\n",
      "4 пoceдeть peйcax ceлфи ночин наберёмспокойный 1000❤ строители😂форсаж 😂😜ядерный ролловбарабать 😄тюрбанпуля\n",
      "✵Басота✵ http://vk.com/club154118356\n",
      "5 кратких фактов http://vk.com/club86284414\n",
      "69 ПОХ http://vk.com/club76520569\n",
      "Показалось | Приколы http://vk.com/club93802342\n",
      "Аренда музыкального оборудования / г.Липецк http://vk.com/club176510451\n",
      "Авто легенды СССР http://vk.com/club161327394\n",
      "Мемач http://vk.com/club126389578\n",
      "Бот Максим http://vk.com/club135209264\n",
      "ROSE DYNASTY http://vk.com/club169450592\n",
      "Мизантроп http://vk.com/club29369218\n",
      "\n",
      "5 макгрегор мэтт сильва хабиб октагон уайт энтони конора локоть пояс\n",
      "ФОРСАЖ http://vk.com/club18907487\n",
      "My Life Is MMA http://vk.com/club49264394\n",
      "UFC http://vk.com/club153414815\n",
      "UFC / ONE FC / PFL http://vk.com/club140927803\n",
      "Скандальные факты 📢 http://vk.com/club93598338\n",
      "ToFight | БОКС | MMA http://vk.com/club30745740\n",
      "Я спортсмен http://vk.com/club68314737\n",
      "BEST of MMA http://vk.com/club30684458\n",
      "Книга Рекордов http://vk.com/club65662695\n",
      "RT en Español http://vk.com/club61174019\n",
      "\n",
      "6 человек друг жизнь группа февраль город ждать новое россия история\n",
      "Русские Онлайн http://vk.com/club62241455\n",
      "Москва: Афиша бесплатных событий http://vk.com/club109198561\n",
      "«Библио-Глобус» | Главный книжный http://vk.com/club57440845\n",
      "Planeta.ru http://vk.com/club39395815\n",
      "Гостелерадиофонд http://vk.com/club60958526\n",
      "Блог. Бизнес без вложений это реально http://vk.com/club90955721\n",
      "Планета №7 http://vk.com/club154105300\n",
      "Новинки кино http://vk.com/club56176916\n",
      "Коряжма спортивная http://vk.com/club66296\n",
      "Команда ВКонтакте http://vk.com/club22822305\n",
      "\n",
      "7 светлый кирилл толмацкий rock ambient morn loung vocal deephous drumnbass\n",
      "DEEPlomat http://vk.com/club172637739\n",
      "Не смотри, бака! http://vk.com/club149506803\n",
      "Достижения человечества http://vk.com/club122723551\n",
      "69 % пошлости http://vk.com/club95287151\n",
      "Маникюр | Липецк | 48 | гель лак| http://vk.com/club176697663\n",
      "СМС приколы http://vk.com/club25554967\n",
      "Стикеры http://vk.com/club57429333\n",
      "Ушки Бэтмена http://vk.com/club5838365\n",
      "Прически 2018 http://vk.com/club109785715\n",
      "Старшеклассницы http://vk.com/club144934186\n",
      "\n",
      "8 jason nina irina maxwel sølve marina olga interior f80💦m4 competition🔥e39👍i8💦e36🍊e60🚀e30❤🔥🔥🔥e92🤙1976\n",
      "Каневская телестудия http://vk.com/club29553860\n",
      "BMW ²⁰¹9 http://vk.com/club50983413\n",
      "Деньги или способности? http://vk.com/club155720440\n",
      "Ultra Vine http://vk.com/club79693248\n",
      "сюрреали́зм. http://vk.com/club148932540\n",
      "EA7 | MUSIC | http://vk.com/club64977560\n",
      "Акварель http://vk.com/club32158498\n",
      "Книга - Рекордов http://vk.com/club60659682\n",
      "Дерзкий Ёжик http://vk.com/club131263570\n",
      "Ушки Бэтмена http://vk.com/club5838365\n",
      "\n",
      "9 ❤кто 1000-2100 morgen 😎кот-гонять mk4vw gtivw 💤guten evolutionспокойный mk6r32спокойный 🚀отправка\n",
      "Volkswagen Golf http://vk.com/club42481326\n",
      "chocolate http://vk.com/club66252740\n",
      "СМС приколы http://vk.com/club25554967\n",
      "DELETED http://vk.com/club75107421\n",
      "69 ПОХ http://vk.com/club76520569\n",
      "Факт дня http://vk.com/club103027469\n",
      "Pladform http://vk.com/club53114624\n",
      "Убойные приколы http://vk.com/club141623877\n",
      "GUCCI http://vk.com/club26559338\n",
      "АНЕКДОТЫ http://vk.com/club15797699\n",
      "\n",
      "10 болғать болып алып керека болс үшін өмір қыздар кеткен деген\n",
      "Томпи😊❤ http://vk.com/club108507395\n",
      "▼Ішегім-Ай ▼ http://vk.com/club164101533\n",
      "ГРИБЫ | ЖИВОТНЫЕ | ПРИРОДА http://vk.com/club7571426\n",
      "Простой Пацан © http://vk.com/club107668384\n",
      "Дуревыбивалка http://vk.com/club46175849\n",
      "Amazing Art http://vk.com/club152798025\n",
      "Мужской рай http://vk.com/club38290762\n",
      "MTA:SA Тегін Фотолар http://vk.com/club155485207\n",
      "NUR.KZ - Жаңалықтар http://vk.com/club101821296\n",
      "Пошлые селфи http://vk.com/club50939110\n",
      "\n",
      "11 вытaщить пapнить pyка мaмoть вышлa милaть ухoдить мужчинa живoтныx exaть\n",
      "Акварель http://vk.com/club32158498\n",
      "Атрибуты богатой жизни http://vk.com/club141255612\n",
      "Маникюр | Дизайн ногтей 2019 http://vk.com/club131267293\n",
      "Альтернативный мир http://vk.com/club176421998\n",
      "厚かましい船 http://vk.com/club82338291\n",
      "Операционная | Медицина http://vk.com/club151204563\n",
      "Эгоист http://vk.com/club35061290\n",
      "ULTRAPIR http://vk.com/club136058456\n",
      "Академия Настоящих Бойцов | UFC | БОКС http://vk.com/club138649060\n",
      "Костомукша ПОГОДА. http://vk.com/club6118709\n",
      "\n",
      "12 мyдpeцть кoжнoгo poбить ліка дoвeдить хлoпeць піидти bacказаться чoтиpь взaгaлі\n",
      "Український анекдот з перцем! http://vk.com/club24148563\n",
      "Спам ойындары😍😌😎 казакша😎😇😆 http://vk.com/club130129632\n",
      "Улетные приколы http://vk.com/club22741624\n",
      "Сарказм http://vk.com/club36164349\n",
      "Лайк Тайм http://vk.com/club165790945\n",
      "Приколы про Школу http://vk.com/club164896690\n",
      "Лайфхак http://vk.com/club40567146\n",
      "1З http://vk.com/club64151692\n",
      "э с т е т и ч н о http://vk.com/club165069143\n",
      "CROMULENT http://vk.com/club170656205\n",
      "\n",
      "13 ингредиент масло приготовление соль перец рецепт добавлять ложка тонкий приготовить\n",
      "Повар http://vk.com/club134730367\n",
      "Рецепты для мультиварки http://vk.com/club43706510\n",
      "Сам себе шеф: видеорецепты ⏳ http://vk.com/club141433249\n",
      "Готовим вместе http://vk.com/club28565318\n",
      "Вкусняшки на каждый день http://vk.com/club158432265\n",
      "Кулинарные Хитрости l Новогодние рецепты http://vk.com/club65653033\n",
      "Лучшие рецепты Повара http://vk.com/club18464856\n",
      "САЛАТЫ | Лучшие рецепты http://vk.com/club94216909\n",
      "Cook it! - вкусные рецепты http://vk.com/club32231484\n",
      "Рецепты правильного питания http://vk.com/club94098607\n",
      "\n",
      "14 мазафакер 👇выбрать победить разозлить арктический ночипотрясать часамипассажирфотогеничность рак😄спокойный схожестьобнимашкичерепашкаиталиякрасавицатихий лисамалыш\n",
      "Больше, чем фото http://vk.com/club27725748\n",
      "Ренессанс http://vk.com/club52908594\n",
      "Comics King http://vk.com/club121878181\n",
      "Рыжие http://vk.com/club155700909\n",
      "Краткие факты http://vk.com/club75149440\n",
      "Школа Юмора  ツ http://vk.com/club141545434\n",
      "GUCCI http://vk.com/club26559338\n",
      "анекдотов.net http://vk.com/club22222333\n",
      "Дерзкий Ёжик http://vk.com/club131263570\n",
      "Чёткие приколы http://vk.com/club21515884\n",
      "\n",
      "15 рубль цена телефон фото скидка писать подарок любой купить магазин\n",
      "Объявления Новосибирск http://vk.com/club140052260\n"
     ]
    },
    {
     "name": "stdout",
     "output_type": "stream",
     "text": [
      "Черный рынок Стерлитамак/Салават/Ишимбай http://vk.com/club108489924\n",
      "Объявления Прокопьевск, Киселевск, Новокузнецк http://vk.com/club35479362\n",
      "Всё до 3000 | Великий Новгород | Отдам даром http://vk.com/club118079242\n",
      "Подслушано Глубокое http://vk.com/club64629739\n",
      "Омская Барахолка 16+ Куплю/Продам/Отдам даром http://vk.com/club96462205\n",
      "Куплю/Продам Омск Объявления http://vk.com/club100885471\n",
      "Халтура Уфа| Подработка в Уфе| Ежедневная оплата http://vk.com/club151103485\n",
      "Купец Комиссионный Магазин http://vk.com/club174956079\n",
      "Перетяжка Мягкой Мебели Зеленоград/Солнечногорск http://vk.com/club144901072\n",
      "\n",
      "16 реал забить лига футболист матч вратарь забивать тоттенхэма полузащитник форвард\n",
      "G-HOUSE | HOUSE http://vk.com/club92544013\n",
      "Just Music - Новинки Музыки 2019 http://vk.com/club74653596\n",
      "Опасная Земля http://vk.com/club149408877\n",
      "Вот это смешно :D http://vk.com/club147166906\n",
      "Миша SMT | OFFICIAL PUBLIC http://vk.com/club23759591\n",
      "The deep http://vk.com/club89922093\n",
      "Armin van Buuren http://vk.com/club42743690\n",
      "Ed Sheeran http://vk.com/club137518957\n",
      "Футбол Европы: Лига Чемпионов http://vk.com/club23693281\n",
      "Архитектор http://vk.com/club98559377\n",
      "\n",
      "17 каробкий мультируль 🎁доставка 🎁отправка ✅хит нетцена карба 2104 ступичный противотуманка\n",
      "Дизайн ногтей тут! ♥Фото ♥Видео ♥Уроки маникюра http://vk.com/club59076968\n",
      "Эпоха грусти http://vk.com/club163120528\n",
      "Selfie Krasnoyarsk http://vk.com/club90237441\n",
      "MQ: Men’s Quality http://vk.com/club171057192\n",
      "Ненормальный Tik-Tok http://vk.com/club177578354\n",
      "FlexHub http://vk.com/club173443035\n",
      "Windows Blog | Компьютер http://vk.com/club47923094\n",
      "Psychology|Психология http://vk.com/club30525261\n",
      "Женские секреты http://vk.com/club28528027\n",
      "LOVE http://vk.com/club122817318\n",
      "\n",
      "18 ❤оценить 😍просто ❤какать 🖤как 😊милый 😍добрый 😏как 😏милый 😌добрый 💙крутой\n",
      "FASHION  мода http://vk.com/club33404310\n",
      "LUXURY STYlE http://vk.com/club45041183\n",
      "Л Е С Н Ы Е  Р Е Б Я Т А http://vk.com/club134385610\n",
      "Типичный Дотер http://vk.com/club29415100\n",
      "Секс &amp; Деньги http://vk.com/club41478782\n",
      "Твое разнообразие http://vk.com/club152876197\n",
      "Зуб пацана http://vk.com/club57055326\n",
      "Нетипичный Маникюр http://vk.com/club149244472\n",
      "MEN'S WEAKNESS http://vk.com/club57328618\n",
      "Woman http://vk.com/club38285632\n",
      "\n",
      "19 чтoб былo ecть этoт мoжнo тoлькo кoгдa знaть кoтopый пpocтo\n",
      "Видео http://vk.com/club26090596\n",
      "Вкусные рецепты / Фитнес Кухня http://vk.com/club119945892\n",
      "КиноДом  — Фильмы и сериалы онлайн + БОТ поиск http://vk.com/club34364888\n",
      "Весы http://vk.com/club54365550\n",
      "Мантра http://vk.com/club272049\n",
      "Рак http://vk.com/club54365511\n",
      "Не болею | Рецепты здоровья и долголетия http://vk.com/club165313378\n",
      "Самое интересное | Бот http://vk.com/club11787\n",
      "Жизнь | Психология http://vk.com/club130001074\n",
      "Арт за 5 сек http://vk.com/club148056070\n",
      "\n"
     ]
    }
   ],
   "source": [
    "print(\"The most typical groups for every topic\")\n",
    "for i in range(20):\n",
    "    terms = justlda.get_topic_terms(i)\n",
    "    print(i, ' '.join(map(lambda x: mycorp.dictionary.get(x[0]), terms)))\n",
    "    typical_groups = check_pd_20[i].sort_values(ascending=False).index[:10]\n",
    "    for g in typical_groups:\n",
    "        group_info = vk_get_response(\n",
    "            'groups.getById', 'group_ids={0}&v=4.9&lang=ru'.format(g), access_token\n",
    "        )\n",
    "        print(group_info['response'][0]['name'] + ' ' + 'http://vk.com/club' + str(g))\n",
    "        time.sleep(0.3)\n",
    "    print()"
   ]
  },
  {
   "cell_type": "raw",
   "metadata": {},
   "source": [
    "# Не хватает выводов и сравнения интересов аудиторий.\n",
    "\n",
    "Попробуйте дополнить работу тем, чтобы в конце нарисовать распределения групп. Например , взять самые популярные группы у пользователей из групп нтв и дождя, потом построить распределения количества.\n",
    "Для ячейки 9 можно offset ставить другое число ( более крупное) чтобы на гихабе красиво отображалось\n",
    "Можно поиграться с визуализацией топиков и слов. Пример кода:\n",
    "import pyLDAvis.gensim as gensimvis\n",
    "import pyLDAvis\n",
    "vis_data = gensimvis.prepare(lda, mycorp, group_clean_doc_dict)\n",
    "pyLDAvis.display(vis_data)"
   ]
  },
  {
   "cell_type": "code",
   "execution_count": 219,
   "metadata": {},
   "outputs": [],
   "source": [
    "#Содадим отдельные словари  для групп \n",
    "group_clean_doc_dict_only_ntv={}\n",
    "group_clean_doc_dict_only_rain={}\n",
    "for key in group_clean_doc_dict:\n",
    "    if key in groups_only_ntv:\n",
    "        group_clean_doc_dict_only_ntv[key]= group_clean_doc_dict[key]\n",
    "    #print(key,group_clean_doc_dict[key])\n",
    "    else:\n",
    "        group_clean_doc_dict_only_ntv[key]= group_clean_doc_dict[key]"
   ]
  },
  {
   "cell_type": "markdown",
   "metadata": {},
   "source": [
    "### Посмотрим самые полуярные темы у подпичисков дождя и NTV:"
   ]
  },
  {
   "cell_type": "code",
   "execution_count": 231,
   "metadata": {},
   "outputs": [],
   "source": [
    "mycorp_ntv = ListTextCorpus(input=group_clean_doc_dict_only_ntv.values())\n",
    "justlda_ntv = LdaModel(\n",
    "    corpus=mycorp_ntv, num_topics=20, passes=12\n",
    ")"
   ]
  },
  {
   "cell_type": "markdown",
   "metadata": {},
   "source": [
    "### Посмотрим самые полуярные темы у подпичисков дождя и NTV:"
   ]
  },
  {
   "cell_type": "code",
   "execution_count": 305,
   "metadata": {},
   "outputs": [
    {
     "name": "stdout",
     "output_type": "stream",
     "text": [
      "LdaModel performance ntv\n",
      "______________________\n",
      "0 кoммeнты👇пoдeться зpениe пoдeться мнeниeм кoмментaxтecт кoммeнтaхhaписать кoммeнтаxoтвeть гелик🐊🐊🐊жалко бропомочь ли🤤🔥🔥💨лайк🤤\n",
      "1 мкппа стеклоподъемник акппа 2004 автозапуск гниль приор прокурить ходовка 2114\n",
      "2 пepeмeшивaeм зaмeшивaeм pacтитeльнoгo вкуcнo пoлучaeтcть aппeтитa πpигoтoвлeниe πpиятнoгo нapeзaть тeмпepaтуpe\n",
      "3 магомедшарип легковес келвин гастелум наурдиевый празересом празерес допинг-тест сехудо уиттакер\n",
      "4 рокіть дуже який якщый українить тілька післить більша життить буть\n",
      "5 мояправда загадкиподсознание канал🔥🔥🔥 фoтoграфия вoлнуeт кaчeствo фoтoгрaфия сайте😉 грyстной вчеpашний\n",
      "6 любой писать человек цена рубль группа друг новое подарок фото\n",
      "7 человек друг февраль ждать знать смотреть группа любить выйти последний\n",
      "8 matilda maxi-singl armani отцана подписчика👍🏻 рaзборныйподстаканникиработа мeталл-4 жaрoвень отцасделать художествомный\n",
      "9 😍классный 😍крутой ❤любовь 😍кака стоматoлог заказать- 😍милый чтоня зналиинтересный заметкуинтересный\n",
      "10 осіб діть повідомленний болс үшін емес мена місто болда деген\n",
      "11 lenin ❤мужик попочка 130412 плюссайза попец свмужик свсвсвшикарный свсвсвсвсв😍 свкак\n",
      "12 хит💀 ❤️как гчелябинск меняня косоглазие толкиен работа– дом– спастический самить\n",
      "13 ингредиент приготовление масло рецепт ложка соль растительный яйцо сухой молоко\n",
      "14 чтoб ecть тoлькo былo дeнь мoжнo этoт мeнить кoгдa oдин\n",
      "15 love music релиз black like night альбом live hous light\n",
      "16 твой любить любовь знать думать жизнь никто жить мама глаз\n",
      "17 район житель сотрудник центр улица область россия российский февраль территория\n",
      "18 история известный фильм страна жизнь герой русский книга роль являться\n",
      "19 cтecняшeк 1кром мерсеризовать 37см 4лицо -акрил буфы конце- резинкой- 10-11см\n"
     ]
    }
   ],
   "source": [
    "print('LdaModel performance ntv')\n",
    "print('______________________')\n",
    "for i in range(20):\n",
    "    terms = justlda_ntv.get_topic_terms(i)\n",
    "    #print(terms)\n",
    "    print(i, ' '.join(map(lambda x: mycorp_ntv.dictionary.get(x[0]), terms)))"
   ]
  },
  {
   "cell_type": "code",
   "execution_count": 232,
   "metadata": {},
   "outputs": [],
   "source": [
    "mycorp_rain = ListTextCorpus(input=group_clean_doc_dict_only_ntv.values())\n",
    "justlda_rain = LdaModel(\n",
    "    corpus=mycorp_rain, num_topics=20, passes=12\n",
    ")"
   ]
  },
  {
   "cell_type": "code",
   "execution_count": 268,
   "metadata": {
    "scrolled": true
   },
   "outputs": [
    {
     "name": "stdout",
     "output_type": "stream",
     "text": [
      "LdaModel performance rain\n",
      "______________________\n",
      "0 болс үшін мена болда деген керека емес болып енді болада\n",
      "1 россия город российский страна участие история проект человек центр москва\n",
      "2 турган болган турд кирген серік дилеп чылд болупа арын барын\n",
      "3 любить жизнь любовь твой чувство сердце чувствовать знать мысль глаз\n",
      "4 дом– работа– отдушка газобетон сосудосуживающий гидроизоляция армирование aliexpress папиллома заделка\n",
      "5 человек писать друг фото ждать группа подарок знать цена рубль\n",
      "6 ингредиент приготовление рецепт растительный масло ложка соль перец яйцо слой\n",
      "7 турар алган эвес дуза дугайында алыр болгаш болза бээр шупту\n",
      "8 сведениемастеринг grapefruit pbбитло жизнь неделя видеть ждать помочь думать февраль\n",
      "9 чecнoкa πpиятнoгo aппeтитa вкуcнo пoкaзaнo cмaзaть пepцa opeхoть pacтaeт дaeм\n",
      "10 экрaный dауtona 3аказывать 239o всeгe 0плат rоiех штoрка авто-шторка мaгнит\n",
      "11 чтoб мeнить ecть тoлькo дeнь былo мoжнo кoгдa этoт тeбить\n",
      "12 lo-fi psychedel drone missi teal masseduct showman a-ha musgrav synthwav\n",
      "13 тобойфантастический будущемотправить ❤очаровать хахатоповаяискусствогорячаякрасоткапрекрасный задоквосхитительнаягорячий взглядсоскавосхитительнаяпрекраснаяхорошаотпадпревосходнаягорячасоскабомбапрелестькрасоткавосхитительнаявосхитительнаяпрекраснаяпрекрасная😏прекраснаямилашка язычокпрекраснаявосхитительный взглядбомбавосхитительнаякрасотканяшкасоскапронзать душапрекраснаяпрекраснаяпокататься 😏прекраснаяпрекрасный\n",
      "14 трек альбом 2019 новое music музыка 2018 релиз друг стиль\n",
      "15 гoлoвy yмepeть baлeнтинa пpocтыe чyвcтвa мeлoдpaмa чeлoвeчecтвa вcтpeчaeт тoчкy пpaвитeльcтвo\n",
      "16 bandcamp continu steven understand crush languag exampl write shit intermedi\n",
      "17 cтecняшeк гpynna 😆😃10 законнопочувствовать челленджигрок былокрасиво 👌🏻батэ 😆😁несправедливореспекттак 👌🏻иньест разницукак\n",
      "18 рецeпт бeрита дeзинфекция аnтека дорoгойя коcметик обрaботка nрименять шaурм гарaнтий\n",
      "19 greg ⛔всема 😍❤премьер скуотправить красотке❤ь попочка czech moda officiel camilla\n"
     ]
    }
   ],
   "source": [
    "print('LdaModel performance rain')\n",
    "print('______________________')\n",
    "for i in range(20):\n",
    "    terms = justlda_rain.get_topic_terms(i)\n",
    "   # print(terms)\n",
    "    print(i, ' '.join(map(lambda x: mycorp_rain.dictionary.get(x[0]), terms)))"
   ]
  },
  {
   "cell_type": "code",
   "execution_count": 441,
   "metadata": {},
   "outputs": [],
   "source": [
    "# Получим распредление по топикам нтв\n",
    "sent_topics_df_ntv = pd.DataFrame()\n",
    "for group_id, text in group_clean_doc_dict.items():\n",
    "    #print(group_id, text)\n",
    "    bow=justlda_ntv.get_document_topics(mycorp_ntv.dictionary.doc2bow(text))\n",
    "    #print(a[0][0])\n",
    "    terms = justlda_ntv.get_topic_terms(bow[0][0])\n",
    "    kweyword= ' '.join(map(lambda x: mycorp_ntv.dictionary.get(x[0]), terms))\n",
    "   #print(terms)\n",
    "    #print(map(lambda x: mycorp_rain.dictionary.get(x[0]), terms))\n",
    "    sent_topics_df_ntv = sent_topics_df_ntv.append(pd.Series([group_id,kweyword]), ignore_index=True)\n",
    "    #rint(sent_topics_df_ntv.head())\n",
    "    #print(a[0])\n",
    "    #break\n",
    "sent_topics_df_ntv.columns = ['Group','Keywords']\n",
    "    "
   ]
  },
  {
   "cell_type": "code",
   "execution_count": 444,
   "metadata": {},
   "outputs": [],
   "source": [
    "# Получим распредление по топикам дождя\n",
    "sent_topics_df_rain = pd.DataFrame()\n",
    "for group_id, text in group_clean_doc_dict.items():\n",
    "    bow=justlda_ntv.get_document_topics(mycorp_rain.dictionary.doc2bow(text))\n",
    "    terms = justlda_rain.get_topic_terms(bow[0][0])\n",
    "    kweyword= ' '.join(map(lambda x: mycorp_rain.dictionary.get(x[0]), terms))\n",
    " \n",
    "    sent_topics_df_rain = sent_topics_df_rain.append(pd.Series([group_id,kweyword]), ignore_index=True)\n",
    "\n",
    "sent_topics_df_rain.columns = ['Group','Keywords']"
   ]
  },
  {
   "cell_type": "code",
   "execution_count": 628,
   "metadata": {},
   "outputs": [
    {
     "data": {
      "text/plain": [
       "Text(0.5, 1.0, 'Распределение Тематических групп НТВ')"
      ]
     },
     "execution_count": 628,
     "metadata": {},
     "output_type": "execute_result"
    },
    {
     "data": {
      "image/png": "[encoded data removed]",
      "text/plain": [
       "<Figure size 720x1440 with 1 Axes>"
      ]
     },
     "metadata": {
      "needs_background": "light"
     },
     "output_type": "display_data"
    }
   ],
   "source": [
    "\n",
    "fig, ax = plt.subplots(figsize=(10,20))\n",
    "ax.barh(sent_topics_df_ntv.groupby(['Keywords']).count().reset_index().sort_values(by='Group', ascending=True)['Keywords'], \n",
    "        sent_topics_df_ntv.groupby(['Keywords']).count().reset_index().sort_values(by='Group', ascending=True)['Group'], \n",
    "       align='center',\n",
    "        color='green')\n",
    "\n",
    "ax.set_xlabel('Количество групп по тематике')\n",
    "ax.set_ylabel('Тематики')\n",
    "ax.set_title('Распределение Тематических групп НТВ')\n",
    "#labels=[textwrap.fill(text,90) for text in sent_topics_df_ntv.groupby(['Keywords']).count().reset_index().sort_values(by='Group', ascending=True)['Keywords'].to_list()]\n",
    "\n",
    "#plt.yticks(x, labels)"
   ]
  },
  {
   "cell_type": "code",
   "execution_count": 629,
   "metadata": {
    "scrolled": true
   },
   "outputs": [
    {
     "data": {
      "text/plain": [
       "([<matplotlib.axis.YTick object at 0x7fd6384b9470>, <matplotlib.axis.YTick object at 0x7fd6384c5198>, <matplotlib.axis.YTick object at 0x7fd6384cb0f0>, <matplotlib.axis.YTick object at 0x7fd638eab8d0>, <matplotlib.axis.YTick object at 0x7fd638eab3c8>, <matplotlib.axis.YTick object at 0x7fd638ec4f28>, <matplotlib.axis.YTick object at 0x7fd638eab198>, <matplotlib.axis.YTick object at 0x7fd638e3cf28>, <matplotlib.axis.YTick object at 0x7fd639751048>, <matplotlib.axis.YTick object at 0x7fd639755358>, <matplotlib.axis.YTick object at 0x7fd639759d30>, <matplotlib.axis.YTick object at 0x7fd639759e48>, <matplotlib.axis.YTick object at 0x7fd639bd0780>, <matplotlib.axis.YTick object at 0x7fd639bd0588>, <matplotlib.axis.YTick object at 0x7fd639cc50b8>, <matplotlib.axis.YTick object at 0x7fd639cc5a20>, <matplotlib.axis.YTick object at 0x7fd639cc5470>], <a list of 17 Text yticklabel objects>)"
      ]
     },
     "execution_count": 629,
     "metadata": {},
     "output_type": "execute_result"
    },
    {
     "data": {
      "image/png": "[encoded data removed]",
      "text/plain": [
       "<Figure size 720x1440 with 1 Axes>"
      ]
     },
     "metadata": {
      "needs_background": "light"
     },
     "output_type": "display_data"
    }
   ],
   "source": [
    "\n",
    "fig, ax = plt.subplots(figsize=(10,20))\n",
    "ax.barh(sent_topics_df_rain.groupby(['Keywords']).count().reset_index().sort_values(by='Group', ascending=True)['Keywords'], \n",
    "        sent_topics_df_rain.groupby(['Keywords']).count().reset_index().sort_values(by='Group', ascending=True)['Group'], \n",
    "       align='center',\n",
    "        color='pink')\n",
    "\n",
    "ax.set_xlabel('Количество групп по тематике')\n",
    "ax.set_ylabel('Тематики')\n",
    "ax.set_title('Распределение Тематических групп Дождь')\n",
    "labels=[textwrap.fill(text,90) for text in sent_topics_df_rain.groupby(['Keywords']).count().reset_index().sort_values(by='Group', ascending=True)['Keywords'].to_list()]\n",
    "\n",
    "plt.yticks(x, labels)"
   ]
  },
  {
   "cell_type": "code",
   "execution_count": null,
   "metadata": {},
   "outputs": [],
   "source": [
    "#### Видно что существенно интресы аудитори отличаются. Например, У дождя лидируют кулитнарные и инострынные топики, у НТВ каких-то экузистенциальных много"
   ]
  },
  {
   "cell_type": "raw",
   "metadata": {},
   "source": [
    "Можно поиграться с визуализацией топиков и слов. Пример кода:\n",
    "import pyLDAvis.gensim as gensimvis\n",
    "import pyLDAvis\n",
    "vis_data = gensimvis.prepare(lda, mycorp, group_clean_doc_dict)\n",
    "pyLDAvis.display(vis_data)"
   ]
  },
  {
   "cell_type": "markdown",
   "metadata": {},
   "source": [
    "### Вот почему-то не получается никак. Что я делаю не так?"
   ]
  },
  {
   "cell_type": "code",
   "execution_count": 723,
   "metadata": {},
   "outputs": [],
   "source": [
    "dict_=Dictionary(group_clean_doc_dict.values())"
   ]
  },
  {
   "cell_type": "code",
   "execution_count": null,
   "metadata": {},
   "outputs": [],
   "source": []
  },
  {
   "cell_type": "code",
   "execution_count": 719,
   "metadata": {},
   "outputs": [],
   "source": [
    "lda = gensim.models.ldamodel.LdaModel(corpus=mycorp, id2word=id2word, passes=12)"
   ]
  },
  {
   "cell_type": "code",
   "execution_count": 724,
   "metadata": {},
   "outputs": [
    {
     "ename": "AttributeError",
     "evalue": "'dict_values' object has no attribute 'seek'",
     "output_type": "error",
     "traceback": [
      "\u001b[0;31m---------------------------------------------------------------------------\u001b[0m",
      "\u001b[0;31mAttributeError\u001b[0m                            Traceback (most recent call last)",
      "\u001b[0;32m<ipython-input-724-2ddb59709785>\u001b[0m in \u001b[0;36m<module>\u001b[0;34m\u001b[0m\n\u001b[0;32m----> 1\u001b[0;31m \u001b[0mvis_data\u001b[0m \u001b[0;34m=\u001b[0m \u001b[0mgensimvis\u001b[0m\u001b[0;34m.\u001b[0m\u001b[0mprepare\u001b[0m\u001b[0;34m(\u001b[0m\u001b[0mlda\u001b[0m\u001b[0;34m,\u001b[0m \u001b[0mmycorp\u001b[0m\u001b[0;34m,\u001b[0m \u001b[0mdict_\u001b[0m\u001b[0;34m)\u001b[0m\u001b[0;34m\u001b[0m\u001b[0;34m\u001b[0m\u001b[0m\n\u001b[0m",
      "\u001b[0;32m~/.local/lib/python3.6/site-packages/pyLDAvis/gensim.py\u001b[0m in \u001b[0;36mprepare\u001b[0;34m(topic_model, corpus, dictionary, doc_topic_dist, **kwargs)\u001b[0m\n\u001b[1;32m    116\u001b[0m     \u001b[0mSee\u001b[0m\u001b[0;31m \u001b[0m\u001b[0;31m`\u001b[0m\u001b[0mpyLDAvis\u001b[0m\u001b[0;34m.\u001b[0m\u001b[0mprepare\u001b[0m\u001b[0;31m`\u001b[0m \u001b[0;32mfor\u001b[0m \u001b[0;34m**\u001b[0m\u001b[0mkwargs\u001b[0m\u001b[0;34m.\u001b[0m\u001b[0;34m\u001b[0m\u001b[0;34m\u001b[0m\u001b[0m\n\u001b[1;32m    117\u001b[0m     \"\"\"\n\u001b[0;32m--> 118\u001b[0;31m     \u001b[0mopts\u001b[0m \u001b[0;34m=\u001b[0m \u001b[0mfp\u001b[0m\u001b[0;34m.\u001b[0m\u001b[0mmerge\u001b[0m\u001b[0;34m(\u001b[0m\u001b[0m_extract_data\u001b[0m\u001b[0;34m(\u001b[0m\u001b[0mtopic_model\u001b[0m\u001b[0;34m,\u001b[0m \u001b[0mcorpus\u001b[0m\u001b[0;34m,\u001b[0m \u001b[0mdictionary\u001b[0m\u001b[0;34m,\u001b[0m \u001b[0mdoc_topic_dist\u001b[0m\u001b[0;34m)\u001b[0m\u001b[0;34m,\u001b[0m \u001b[0mkwargs\u001b[0m\u001b[0;34m)\u001b[0m\u001b[0;34m\u001b[0m\u001b[0;34m\u001b[0m\u001b[0m\n\u001b[0m\u001b[1;32m    119\u001b[0m     \u001b[0;32mreturn\u001b[0m \u001b[0mvis_prepare\u001b[0m\u001b[0;34m(\u001b[0m\u001b[0;34m**\u001b[0m\u001b[0mopts\u001b[0m\u001b[0;34m)\u001b[0m\u001b[0;34m\u001b[0m\u001b[0;34m\u001b[0m\u001b[0m\n",
      "\u001b[0;32m~/.local/lib/python3.6/site-packages/pyLDAvis/gensim.py\u001b[0m in \u001b[0;36m_extract_data\u001b[0;34m(topic_model, corpus, dictionary, doc_topic_dists)\u001b[0m\n\u001b[1;32m     34\u001b[0m \u001b[0;34m\u001b[0m\u001b[0m\n\u001b[1;32m     35\u001b[0m    \u001b[0;32massert\u001b[0m \u001b[0mterm_freqs\u001b[0m\u001b[0;34m.\u001b[0m\u001b[0mshape\u001b[0m\u001b[0;34m[\u001b[0m\u001b[0;36m0\u001b[0m\u001b[0;34m]\u001b[0m \u001b[0;34m==\u001b[0m \u001b[0mlen\u001b[0m\u001b[0;34m(\u001b[0m\u001b[0mdictionary\u001b[0m\u001b[0;34m)\u001b[0m\u001b[0;34m,\u001b[0m \u001b[0;34m'Term frequencies and dictionary have different shape {} != {}'\u001b[0m\u001b[0;34m.\u001b[0m\u001b[0mformat\u001b[0m\u001b[0;34m(\u001b[0m\u001b[0mterm_freqs\u001b[0m\u001b[0;34m.\u001b[0m\u001b[0mshape\u001b[0m\u001b[0;34m[\u001b[0m\u001b[0;36m0\u001b[0m\u001b[0;34m]\u001b[0m\u001b[0;34m,\u001b[0m \u001b[0mlen\u001b[0m\u001b[0;34m(\u001b[0m\u001b[0mdictionary\u001b[0m\u001b[0;34m)\u001b[0m\u001b[0;34m)\u001b[0m\u001b[0;34m\u001b[0m\u001b[0;34m\u001b[0m\u001b[0m\n\u001b[0;32m---> 36\u001b[0;31m    \u001b[0;32massert\u001b[0m \u001b[0mdoc_lengths\u001b[0m\u001b[0;34m.\u001b[0m\u001b[0mshape\u001b[0m\u001b[0;34m[\u001b[0m\u001b[0;36m0\u001b[0m\u001b[0;34m]\u001b[0m \u001b[0;34m==\u001b[0m \u001b[0mlen\u001b[0m\u001b[0;34m(\u001b[0m\u001b[0mcorpus\u001b[0m\u001b[0;34m)\u001b[0m\u001b[0;34m,\u001b[0m \u001b[0;34m'Document lengths and corpus have different sizes {} != {}'\u001b[0m\u001b[0;34m.\u001b[0m\u001b[0mformat\u001b[0m\u001b[0;34m(\u001b[0m\u001b[0mdoc_lengths\u001b[0m\u001b[0;34m.\u001b[0m\u001b[0mshape\u001b[0m\u001b[0;34m[\u001b[0m\u001b[0;36m0\u001b[0m\u001b[0;34m]\u001b[0m\u001b[0;34m,\u001b[0m \u001b[0mlen\u001b[0m\u001b[0;34m(\u001b[0m\u001b[0mcorpus\u001b[0m\u001b[0;34m)\u001b[0m\u001b[0;34m)\u001b[0m\u001b[0;34m\u001b[0m\u001b[0;34m\u001b[0m\u001b[0m\n\u001b[0m\u001b[1;32m     37\u001b[0m \u001b[0;34m\u001b[0m\u001b[0m\n\u001b[1;32m     38\u001b[0m    \u001b[0;32mif\u001b[0m \u001b[0mhasattr\u001b[0m\u001b[0;34m(\u001b[0m\u001b[0mtopic_model\u001b[0m\u001b[0;34m,\u001b[0m \u001b[0;34m'lda_alpha'\u001b[0m\u001b[0;34m)\u001b[0m\u001b[0;34m:\u001b[0m\u001b[0;34m\u001b[0m\u001b[0;34m\u001b[0m\u001b[0m\n",
      "\u001b[0;32m~/.local/lib/python3.6/site-packages/gensim/corpora/textcorpus.py\u001b[0m in \u001b[0;36m__len__\u001b[0;34m(self)\u001b[0m\n\u001b[1;32m    467\u001b[0m         \u001b[0;32mif\u001b[0m \u001b[0mself\u001b[0m\u001b[0;34m.\u001b[0m\u001b[0mlength\u001b[0m \u001b[0;32mis\u001b[0m \u001b[0;32mNone\u001b[0m\u001b[0;34m:\u001b[0m\u001b[0;34m\u001b[0m\u001b[0;34m\u001b[0m\u001b[0m\n\u001b[1;32m    468\u001b[0m             \u001b[0;31m# cache the corpus length\u001b[0m\u001b[0;34m\u001b[0m\u001b[0;34m\u001b[0m\u001b[0;34m\u001b[0m\u001b[0m\n\u001b[0;32m--> 469\u001b[0;31m             \u001b[0mself\u001b[0m\u001b[0;34m.\u001b[0m\u001b[0mlength\u001b[0m \u001b[0;34m=\u001b[0m \u001b[0msum\u001b[0m\u001b[0;34m(\u001b[0m\u001b[0;36m1\u001b[0m \u001b[0;32mfor\u001b[0m \u001b[0m_\u001b[0m \u001b[0;32min\u001b[0m \u001b[0mself\u001b[0m\u001b[0;34m.\u001b[0m\u001b[0mgetstream\u001b[0m\u001b[0;34m(\u001b[0m\u001b[0;34m)\u001b[0m\u001b[0;34m)\u001b[0m\u001b[0;34m\u001b[0m\u001b[0;34m\u001b[0m\u001b[0m\n\u001b[0m\u001b[1;32m    470\u001b[0m         \u001b[0;32mreturn\u001b[0m \u001b[0mself\u001b[0m\u001b[0;34m.\u001b[0m\u001b[0mlength\u001b[0m\u001b[0;34m\u001b[0m\u001b[0;34m\u001b[0m\u001b[0m\n\u001b[1;32m    471\u001b[0m \u001b[0;34m\u001b[0m\u001b[0m\n",
      "\u001b[0;32m~/.local/lib/python3.6/site-packages/gensim/corpora/textcorpus.py\u001b[0m in \u001b[0;36m<genexpr>\u001b[0;34m(.0)\u001b[0m\n\u001b[1;32m    467\u001b[0m         \u001b[0;32mif\u001b[0m \u001b[0mself\u001b[0m\u001b[0;34m.\u001b[0m\u001b[0mlength\u001b[0m \u001b[0;32mis\u001b[0m \u001b[0;32mNone\u001b[0m\u001b[0;34m:\u001b[0m\u001b[0;34m\u001b[0m\u001b[0;34m\u001b[0m\u001b[0m\n\u001b[1;32m    468\u001b[0m             \u001b[0;31m# cache the corpus length\u001b[0m\u001b[0;34m\u001b[0m\u001b[0;34m\u001b[0m\u001b[0;34m\u001b[0m\u001b[0m\n\u001b[0;32m--> 469\u001b[0;31m             \u001b[0mself\u001b[0m\u001b[0;34m.\u001b[0m\u001b[0mlength\u001b[0m \u001b[0;34m=\u001b[0m \u001b[0msum\u001b[0m\u001b[0;34m(\u001b[0m\u001b[0;36m1\u001b[0m \u001b[0;32mfor\u001b[0m \u001b[0m_\u001b[0m \u001b[0;32min\u001b[0m \u001b[0mself\u001b[0m\u001b[0;34m.\u001b[0m\u001b[0mgetstream\u001b[0m\u001b[0;34m(\u001b[0m\u001b[0;34m)\u001b[0m\u001b[0;34m)\u001b[0m\u001b[0;34m\u001b[0m\u001b[0;34m\u001b[0m\u001b[0m\n\u001b[0m\u001b[1;32m    470\u001b[0m         \u001b[0;32mreturn\u001b[0m \u001b[0mself\u001b[0m\u001b[0;34m.\u001b[0m\u001b[0mlength\u001b[0m\u001b[0;34m\u001b[0m\u001b[0;34m\u001b[0m\u001b[0m\n\u001b[1;32m    471\u001b[0m \u001b[0;34m\u001b[0m\u001b[0m\n",
      "\u001b[0;32m~/.local/lib/python3.6/site-packages/gensim/corpora/textcorpus.py\u001b[0m in \u001b[0;36mgetstream\u001b[0;34m(self)\u001b[0m\n\u001b[1;32m    318\u001b[0m         \"\"\"\n\u001b[1;32m    319\u001b[0m         \u001b[0mnum_texts\u001b[0m \u001b[0;34m=\u001b[0m \u001b[0;36m0\u001b[0m\u001b[0;34m\u001b[0m\u001b[0;34m\u001b[0m\u001b[0m\n\u001b[0;32m--> 320\u001b[0;31m         \u001b[0;32mwith\u001b[0m \u001b[0mutils\u001b[0m\u001b[0;34m.\u001b[0m\u001b[0mfile_or_filename\u001b[0m\u001b[0;34m(\u001b[0m\u001b[0mself\u001b[0m\u001b[0;34m.\u001b[0m\u001b[0minput\u001b[0m\u001b[0;34m)\u001b[0m \u001b[0;32mas\u001b[0m \u001b[0mf\u001b[0m\u001b[0;34m:\u001b[0m\u001b[0;34m\u001b[0m\u001b[0;34m\u001b[0m\u001b[0m\n\u001b[0m\u001b[1;32m    321\u001b[0m             \u001b[0;32mfor\u001b[0m \u001b[0mline\u001b[0m \u001b[0;32min\u001b[0m \u001b[0mf\u001b[0m\u001b[0;34m:\u001b[0m\u001b[0;34m\u001b[0m\u001b[0;34m\u001b[0m\u001b[0m\n\u001b[1;32m    322\u001b[0m                 \u001b[0;32myield\u001b[0m \u001b[0mline\u001b[0m\u001b[0;34m\u001b[0m\u001b[0;34m\u001b[0m\u001b[0m\n",
      "\u001b[0;32m~/.local/lib/python3.6/site-packages/gensim/utils.py\u001b[0m in \u001b[0;36mfile_or_filename\u001b[0;34m(input)\u001b[0m\n\u001b[1;32m    132\u001b[0m     \u001b[0;32melse\u001b[0m\u001b[0;34m:\u001b[0m\u001b[0;34m\u001b[0m\u001b[0;34m\u001b[0m\u001b[0m\n\u001b[1;32m    133\u001b[0m         \u001b[0;31m# input already a file-like object; just reset to the beginning\u001b[0m\u001b[0;34m\u001b[0m\u001b[0;34m\u001b[0m\u001b[0;34m\u001b[0m\u001b[0m\n\u001b[0;32m--> 134\u001b[0;31m         \u001b[0minput\u001b[0m\u001b[0;34m.\u001b[0m\u001b[0mseek\u001b[0m\u001b[0;34m(\u001b[0m\u001b[0;36m0\u001b[0m\u001b[0;34m)\u001b[0m\u001b[0;34m\u001b[0m\u001b[0;34m\u001b[0m\u001b[0m\n\u001b[0m\u001b[1;32m    135\u001b[0m         \u001b[0;32mreturn\u001b[0m \u001b[0minput\u001b[0m\u001b[0;34m\u001b[0m\u001b[0;34m\u001b[0m\u001b[0m\n\u001b[1;32m    136\u001b[0m \u001b[0;34m\u001b[0m\u001b[0m\n",
      "\u001b[0;31mAttributeError\u001b[0m: 'dict_values' object has no attribute 'seek'"
     ]
    }
   ],
   "source": [
    "vis_data = gensimvis.prepare(lda, mycorp, dict_)"
   ]
  },
  {
   "cell_type": "code",
   "execution_count": null,
   "metadata": {},
   "outputs": [],
   "source": []
  }
 ],
 "metadata": {
  "kernelspec": {
   "display_name": "Python 3",
   "language": "python",
   "name": "python3"
  },
  "language_info": {
   "codemirror_mode": {
    "name": "ipython",
    "version": 3
   },
   "file_extension": ".py",
   "mimetype": "text/x-python",
   "name": "python",
   "nbconvert_exporter": "python",
   "pygments_lexer": "ipython3",
   "version": "3.6.7"
  }
 },
 "nbformat": 4,
 "nbformat_minor": 2
}
